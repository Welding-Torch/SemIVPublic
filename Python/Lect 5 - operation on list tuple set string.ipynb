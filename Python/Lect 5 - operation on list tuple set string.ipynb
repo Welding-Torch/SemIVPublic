{
 "cells": [
  {
   "cell_type": "markdown",
   "id": "6b983da9",
   "metadata": {},
   "source": [
    "# Opertion on list"
   ]
  },
  {
   "cell_type": "code",
   "execution_count": 7,
   "id": "b60acf99",
   "metadata": {},
   "outputs": [
    {
     "name": "stdout",
     "output_type": "stream",
     "text": [
      "originallist is [4, 5, 6, 7, 9, 15]\n",
      "Max is 15\n",
      "Min is 4\n",
      "sum is 46\n"
     ]
    }
   ],
   "source": [
    "l1=[4,5,6,7,9,15]\n",
    "print('originallist is',l1)\n",
    "print('Max is',max(l1))\n",
    "print('Min is',min(l1))\n",
    "print('sum is',sum(l1))\n"
   ]
  },
  {
   "cell_type": "code",
   "execution_count": 9,
   "id": "a5fa000a",
   "metadata": {},
   "outputs": [
    {
     "name": "stdout",
     "output_type": "stream",
     "text": [
      "inserting 99 [4, 5, 6, 99, 7, 9, 15]\n",
      "appending 98 [4, 5, 6, 99, 7, 9, 15, 98]\n",
      "removing 98 [4, 5, 6, 99, 7, 9, 15]\n",
      "remove 3rd element [4, 5, 6, 7, 9, 15]\n"
     ]
    }
   ],
   "source": [
    "l1.insert(3,99)\n",
    "print('inserting 99',l1)\n",
    "l1.append(98)\n",
    "print('appending 98',l1)\n",
    "l1.remove(98)\n",
    "print('removing 98',l1)\n",
    "l1.pop(3)\n",
    "print('remove 3rd element',l1)\n"
   ]
  },
  {
   "cell_type": "code",
   "execution_count": 5,
   "id": "c381b7af",
   "metadata": {},
   "outputs": [
    {
     "name": "stdout",
     "output_type": "stream",
     "text": [
      "merged list [44, 44, 33, 22, 15, 11, 9, 7, 6, 5, 4, 11, 22, 33, 44, 44]\n",
      "extending l1 [44, 44, 33, 22, 15, 11, 9, 7, 6, 5, 4, 11, 22, 33, 44, 44]\n",
      "sorting l1 [4, 5, 6, 7, 9, 11, 11, 15, 22, 22, 33, 33, 44, 44, 44, 44]\n",
      "reversing l1 [44, 44, 44, 44, 33, 33, 22, 22, 15, 11, 11, 9, 7, 6, 5, 4]\n",
      "counting44 in l1 4\n",
      "length l1 16\n",
      "deleted l2 [11, 22, 33, 44, 44]\n"
     ]
    }
   ],
   "source": [
    "l2=[11,22,33,44,44]\n",
    "print('merged list',l1+l2)\n",
    "l1.extend(l2)\n",
    "print('extending l1', l1)\n",
    "l1.sort()\n",
    "print('sorting l1', l1)\n",
    "l1.reverse()\n",
    "print('reversing l1', l1)\n",
    "print('counting44 in l1', l1.count(44))\n",
    "print('length l1', len(l1))\n",
    "print('deleted l2', l2)\n",
    "del l2"
   ]
  },
  {
   "cell_type": "code",
   "execution_count": 1,
   "id": "a961de8b",
   "metadata": {},
   "outputs": [
    {
     "name": "stdout",
     "output_type": "stream",
     "text": [
      "original list is [-5, 6, 1, -2, 8, 4, 3, -7, 10]\n",
      "5th elementin the list is 8\n",
      "5th elementin the list is 8\n",
      "Allthe elements from 3rd Position are [1, -2, 8, 4, 3, -7, 10]\n",
      "Allthe elements from 3rd Position are [1, -2, 8, 4, 3, -7, 10]\n",
      "3 elements from 5th  position are [8, 4, 3]\n",
      "3 elements from 5th  position are [8, 4, 3]\n"
     ]
    }
   ],
   "source": [
    "l=[-5,6,1,-2,8,4,3,-7,10]\n",
    "print('original list is',l)\n",
    "print('5th elementin the list is',l[4])\n",
    "print('5th elementin the list is',l[-5])\n",
    "print('Allthe elements from 3rd Position are',l[2:])\n",
    "print('Allthe elements from 3rd Position are',l[-7:])\n",
    "print('3 elements from 5th  position are',l[4:7])\n",
    "print('3 elements from 5th  position are',l[-5:-2])"
   ]
  },
  {
   "cell_type": "markdown",
   "id": "9caacf55",
   "metadata": {},
   "source": [
    "# Opertion on tuple"
   ]
  },
  {
   "cell_type": "code",
   "execution_count": 3,
   "id": "990fc737",
   "metadata": {},
   "outputs": [
    {
     "name": "stdout",
     "output_type": "stream",
     "text": [
      "original tuple is (1, -45, 89, 4, 50, 42, 60, -2)\n",
      "3 elements from 5th  position are (50, 42, 60)\n",
      "3 elements from 5th  position are (50, 42, 60)\n",
      "max  89\n",
      "min -45\n",
      "sum  199\n",
      "length 8\n",
      "sort  [-45, -2, 1, 4, 42, 50, 60, 89]\n"
     ]
    }
   ],
   "source": [
    "t=(1,-45,89,4,50,42,60,-2)\n",
    "print('original tuple is',t)\n",
    "print('3 elements from 5th  position are',t[4:7])\n",
    "print('3 elements from 5th  position are',t[-4:-1])\n",
    "print('max ',max(t))\n",
    "print('min', min(t))\n",
    "print('sum ',sum(t))\n",
    "print('length',len(t))\n",
    "print('sort ',sorted(t))\n"
   ]
  },
  {
   "cell_type": "markdown",
   "id": "61f105f3",
   "metadata": {},
   "source": [
    "# Opertion on string"
   ]
  },
  {
   "cell_type": "code",
   "execution_count": 7,
   "id": "ad8aeea1",
   "metadata": {},
   "outputs": [
    {
     "name": "stdout",
     "output_type": "stream",
     "text": [
      "3 elements from 5th  position are to\n",
      "3 elements from 5th  position are to\n",
      "3 elements from 5th  position are come\n",
      "3 elements from 5th  position are come\n"
     ]
    }
   ],
   "source": [
    "s='welcome to India'\n",
    "print('3 elements from 5th  position are',s[8:10])\n",
    "print('3 elements from 5th  position are',s[-8:-6])\n",
    "print('3 elements from 5th  position are',s[3:7])\n",
    "print('3 elements from 5th  position are',s[-13:-9])\n"
   ]
  },
  {
   "cell_type": "code",
   "execution_count": 3,
   "id": "b53f46a2",
   "metadata": {},
   "outputs": [
    {
     "name": "stdout",
     "output_type": "stream",
     "text": [
      "['amir', 'bala', 'charlie']\n",
      "c\n"
     ]
    }
   ],
   "source": [
    "names1 = ['Amir', 'Bala', 'Charlie'] \n",
    "names2 = [name.lower() for name in names1]\n",
    "print (names2)\n",
    "print(names2[2][0])"
   ]
  },
  {
   "cell_type": "code",
   "execution_count": 6,
   "id": "0f57ca95",
   "metadata": {},
   "outputs": [
    {
     "data": {
      "text/plain": [
       "['Hello']"
      ]
     },
     "execution_count": 6,
     "metadata": {},
     "output_type": "execute_result"
    }
   ],
   "source": [
    "l8=['Hello']\n",
    "l8"
   ]
  },
  {
   "cell_type": "markdown",
   "id": "83870571",
   "metadata": {},
   "source": [
    "# operation on sets"
   ]
  },
  {
   "cell_type": "code",
   "execution_count": 8,
   "id": "c9fb5207",
   "metadata": {},
   "outputs": [
    {
     "name": "stdout",
     "output_type": "stream",
     "text": [
      "originalset is {1, 2, 3, 4, 5, 6}\n",
      "add {1, 2, 3, 4, 5, 6, 9}\n",
      "update {1, 2, 3, 4, 5, 6, 9, 10, 11, 13.2}\n"
     ]
    }
   ],
   "source": [
    "s1={1,2,3,4,5,6}\n",
    "print('originalset is',s1)\n",
    "s1.add(9)\n",
    "print('add',s1)\n",
    "s1.update([10,11,13.2])\n",
    "print('update',s1)\n"
   ]
  },
  {
   "cell_type": "code",
   "execution_count": 9,
   "id": "7c391365",
   "metadata": {},
   "outputs": [
    {
     "name": "stdout",
     "output_type": "stream",
     "text": [
      "remove {1, 2, 3, 4, 5, 6, 9, 10, 13.2}\n",
      "pop {2, 3, 4, 5, 6, 9, 10, 13.2}\n"
     ]
    }
   ],
   "source": [
    "s1.remove(11)\n",
    "print('remove',s1)\n",
    "s1.pop()\n",
    "print('pop',s1)\n"
   ]
  },
  {
   "cell_type": "code",
   "execution_count": 10,
   "id": "31784a1c",
   "metadata": {},
   "outputs": [
    {
     "name": "stdout",
     "output_type": "stream",
     "text": [
      "discard {2, 3, 4, 5, 6, 9, 10}\n",
      "min 2\n",
      "max 10\n",
      "sum 39\n",
      "length 7\n",
      "set s1 {2, 3, 4, 5, 6, 9, 10}\n"
     ]
    }
   ],
   "source": [
    "s1.discard(13.2)\n",
    "print('discard',s1)\n",
    "print('min',min(s1))\n",
    "print('max',max(s1))\n",
    "print('sum',sum(s1))\n",
    "print('length',len(s1))\n",
    "print('set s1',s1)\n"
   ]
  },
  {
   "cell_type": "code",
   "execution_count": 11,
   "id": "f04535a1",
   "metadata": {},
   "outputs": [
    {
     "name": "stdout",
     "output_type": "stream",
     "text": [
      "set s2 {99, 3, 4, 5}\n",
      "set s3 {11, 12, 13}\n"
     ]
    }
   ],
   "source": [
    "s2={3,4,5,99}\n",
    "print('set s2',s2)\n",
    "s3={11,12,13}\n",
    "print('set s3',s3)\n"
   ]
  },
  {
   "cell_type": "code",
   "execution_count": 12,
   "id": "4c64514b",
   "metadata": {},
   "outputs": [
    {
     "name": "stdout",
     "output_type": "stream",
     "text": [
      "union of s1and s3 {2, 3, 4, 5, 6, 9, 10, 11, 12, 13}\n",
      "intersection of s1and s2 {3, 4, 5}\n",
      "symetric difference of s1and s2 {2, 99, 6, 9, 10}\n",
      "difference of s1and s2 {99}\n",
      "s1 issubset s3 False\n",
      "s1 issuperset s3 False\n"
     ]
    }
   ],
   "source": [
    "print('union of s1and s3',s1.union(s3))\n",
    "print('intersection of s1and s2',s1.intersection(s2))\n",
    "print('symetric difference of s1and s2',s1^s2)\n",
    "print('difference of s1and s2',s2-s1)\n",
    "print('s1 issubset s3',s1.issubset(s3))\n",
    "print('s1 issuperset s3',s1.issuperset(s3))"
   ]
  },
  {
   "cell_type": "code",
   "execution_count": 1,
   "id": "9983c723",
   "metadata": {},
   "outputs": [],
   "source": [
    "s4={1,2,3,4,5,6,10,13.2}\n",
    "s5={3,4,5,99}\n",
    "s6={11,12,13}"
   ]
  },
  {
   "cell_type": "code",
   "execution_count": 2,
   "id": "f0096b50",
   "metadata": {},
   "outputs": [
    {
     "data": {
      "text/plain": [
       "{1, 2, 3, 4, 5, 6, 10, 11, 12, 13, 13.2}"
      ]
     },
     "execution_count": 2,
     "metadata": {},
     "output_type": "execute_result"
    }
   ],
   "source": [
    "s4.union(s6)"
   ]
  },
  {
   "cell_type": "code",
   "execution_count": 3,
   "id": "4fb831f5",
   "metadata": {},
   "outputs": [
    {
     "data": {
      "text/plain": [
       "{3, 4, 5}"
      ]
     },
     "execution_count": 3,
     "metadata": {},
     "output_type": "execute_result"
    }
   ],
   "source": [
    "s4.intersection(s5)"
   ]
  },
  {
   "cell_type": "code",
   "execution_count": 4,
   "id": "30be19d6",
   "metadata": {},
   "outputs": [
    {
     "data": {
      "text/plain": [
       "{3, 4, 5}"
      ]
     },
     "execution_count": 4,
     "metadata": {},
     "output_type": "execute_result"
    }
   ],
   "source": [
    "s5.intersection(s4)"
   ]
  },
  {
   "cell_type": "code",
   "execution_count": 5,
   "id": "63b4773e",
   "metadata": {},
   "outputs": [
    {
     "data": {
      "text/plain": [
       "set()"
      ]
     },
     "execution_count": 5,
     "metadata": {},
     "output_type": "execute_result"
    }
   ],
   "source": [
    "s4.intersection(s6)"
   ]
  },
  {
   "cell_type": "code",
   "execution_count": 6,
   "id": "2b3bdee0",
   "metadata": {},
   "outputs": [
    {
     "data": {
      "text/plain": [
       "{1, 2, 6, 10, 13.2, 99}"
      ]
     },
     "execution_count": 6,
     "metadata": {},
     "output_type": "execute_result"
    }
   ],
   "source": [
    "s4^s5"
   ]
  },
  {
   "cell_type": "code",
   "execution_count": 7,
   "id": "65468a33",
   "metadata": {},
   "outputs": [
    {
     "data": {
      "text/plain": [
       "{1, 2, 6, 10, 13.2, 99}"
      ]
     },
     "execution_count": 7,
     "metadata": {},
     "output_type": "execute_result"
    }
   ],
   "source": [
    "s5^s4"
   ]
  },
  {
   "cell_type": "markdown",
   "id": "bddca4eb",
   "metadata": {},
   "source": [
    "# operation on Dictionery"
   ]
  },
  {
   "cell_type": "code",
   "execution_count": 2,
   "id": "ba86101d",
   "metadata": {},
   "outputs": [
    {
     "name": "stdout",
     "output_type": "stream",
     "text": [
      "origial dictionery is {'name': 'xyz', 'age': 45, 'city': 'mumbai'}\n",
      "keys dict_keys(['name', 'age', 'city'])\n",
      "values dict_values(['xyz', 45, 'mumbai'])\n",
      "items dict_items([('name', 'xyz'), ('age', 45), ('city', 'mumbai')])\n",
      "dictionery after adding {'name': 'xyz', 'age': 45, 'city': 'mumbai', 'gender': 'male'}\n",
      "dictionery after clearing elements {}\n"
     ]
    }
   ],
   "source": [
    "d={'name':'xyz','age':45,'city':'mumbai'}\n",
    "print('origial dictionery is', d)\n",
    "print('keys', d.keys())\n",
    "print('values',d.values())\n",
    "print('items',d.items())\n",
    "d['gender']='male'\n",
    "print('dictionery after adding',d)\n",
    "d.clear()\n",
    "print('dictionery after clearing elements',d)"
   ]
  },
  {
   "cell_type": "code",
   "execution_count": 1,
   "id": "35b8560c",
   "metadata": {},
   "outputs": [
    {
     "data": {
      "text/plain": [
       "{'k1': 'cat', 'k2': 'dog', 'k3': 'mouse', 'k4': 'fish'}"
      ]
     },
     "execution_count": 1,
     "metadata": {},
     "output_type": "execute_result"
    }
   ],
   "source": [
    "dict={'k1':\"cat\",'k2':\"dog\",'k3':\"mouse\",'k4':\"fish\"}\n",
    "dict"
   ]
  },
  {
   "cell_type": "code",
   "execution_count": 2,
   "id": "5615c18b",
   "metadata": {},
   "outputs": [
    {
     "data": {
      "text/plain": [
       "'cat'"
      ]
     },
     "execution_count": 2,
     "metadata": {},
     "output_type": "execute_result"
    }
   ],
   "source": [
    "dict['k1']"
   ]
  },
  {
   "cell_type": "code",
   "execution_count": 3,
   "id": "2b34cb03",
   "metadata": {},
   "outputs": [
    {
     "data": {
      "text/plain": [
       "'mouse'"
      ]
     },
     "execution_count": 3,
     "metadata": {},
     "output_type": "execute_result"
    }
   ],
   "source": [
    "dict['k3']"
   ]
  },
  {
   "cell_type": "code",
   "execution_count": 4,
   "id": "5194836c",
   "metadata": {},
   "outputs": [
    {
     "data": {
      "text/plain": [
       "'fish'"
      ]
     },
     "execution_count": 4,
     "metadata": {},
     "output_type": "execute_result"
    }
   ],
   "source": [
    "dict['k4']"
   ]
  },
  {
   "cell_type": "code",
   "execution_count": 5,
   "id": "1cef18c9",
   "metadata": {},
   "outputs": [
    {
     "data": {
      "text/plain": [
       "{'k1': 'cat', 'k2': 'dog', 'k3': 'mouse', 'k4': 'fish', 'k5': 'parrot'}"
      ]
     },
     "execution_count": 5,
     "metadata": {},
     "output_type": "execute_result"
    }
   ],
   "source": [
    "dict['k5']='parrot'\n",
    "dict"
   ]
  },
  {
   "cell_type": "code",
   "execution_count": 1,
   "id": "a20d39f8",
   "metadata": {},
   "outputs": [
    {
     "name": "stdout",
     "output_type": "stream",
     "text": [
      "{1: 10, 2: 20, 3: 30, 4: 40, 5: 50, 6: 60}\n"
     ]
    }
   ],
   "source": [
    "dic1={1:10, 2:20}\n",
    "dic2={3:30, 4:40}\n",
    "dic3={5:50,6:60}\n",
    "dic4 = {}\n",
    "for d in (dic1, dic2, dic3): dic4.update(d)\n",
    "print(dic4)"
   ]
  },
  {
   "cell_type": "code",
   "execution_count": 2,
   "id": "94291f4f",
   "metadata": {},
   "outputs": [
    {
     "name": "stdout",
     "output_type": "stream",
     "text": [
      "['Green', 'White', 'Black']\n"
     ]
    }
   ],
   "source": [
    "color = ['Red', 'Green', 'White', 'Black', 'Pink', 'Yellow']\n",
    "color = [x for (i,x) in enumerate(color) if i not in (0,4,5)]\n",
    "print(color)"
   ]
  },
  {
   "cell_type": "code",
   "execution_count": 12,
   "id": "e5d82411",
   "metadata": {},
   "outputs": [
    {
     "data": {
      "text/plain": [
       "[3, 4, 5, 5, 25, 1, 3]"
      ]
     },
     "execution_count": 12,
     "metadata": {},
     "output_type": "execute_result"
    }
   ],
   "source": [
    "l5=[3, 4, 5, 20, 5, 25, 1, 3]\n",
    "l5.pop(3)\n",
    "l5"
   ]
  },
  {
   "cell_type": "code",
   "execution_count": 16,
   "id": "9a9618e1",
   "metadata": {},
   "outputs": [
    {
     "data": {
      "text/plain": [
       "{'john': 40, 'peter': 45}"
      ]
     },
     "execution_count": 16,
     "metadata": {},
     "output_type": "execute_result"
    }
   ],
   "source": [
    " d = {\"john\":40, \"peter\":45}\n",
    "d"
   ]
  },
  {
   "cell_type": "code",
   "execution_count": null,
   "id": "5bdce3d0",
   "metadata": {},
   "outputs": [],
   "source": []
  }
 ],
 "metadata": {
  "kernelspec": {
   "display_name": "Python 3",
   "language": "python",
   "name": "python3"
  },
  "language_info": {
   "codemirror_mode": {
    "name": "ipython",
    "version": 3
   },
   "file_extension": ".py",
   "mimetype": "text/x-python",
   "name": "python",
   "nbconvert_exporter": "python",
   "pygments_lexer": "ipython3",
   "version": "3.8.8"
  }
 },
 "nbformat": 4,
 "nbformat_minor": 5
}
