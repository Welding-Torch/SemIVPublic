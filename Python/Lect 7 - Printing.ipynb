{
 "cells": [
  {
   "cell_type": "raw",
   "id": "ea87bb76",
   "metadata": {},
   "source": [
    "# Function to demonstrate printing pattern triangle\n",
    "def triangle(n):\n",
    "\n",
    "    # number of spaces\n",
    "\tk = n - 1\n",
    "\t# outer loop to handle number of rows\n",
    "\tfor i in range(0, n):\n",
    "\t\n",
    "\t\t# inner loop to handle number spaces\n",
    "\t\t# values changing acc. to requirement\n",
    "\t\tfor j in range(0, k):\n",
    "\t\t\tprint(end=\" \")\t\n",
    "\t\t# decrementing k after each loop\n",
    "\t\tk = k - 1\t\n",
    "\t\t# inner loop to handle number of columns\n",
    "\t\t# values changing acc. to outer loop\n",
    "\t\tfor j in range(0, i+1):\n",
    "\t\t\n",
    "\t\t\t# printing stars\n",
    "\t\t\tprint(\"* \", end=\"\")\t\n",
    "\t\t# ending line after each row\n",
    "\t\tprint(\"\\r\")\n",
    "# Driver Code\n",
    "n = 5\n",
    "triangle(n)\n"
   ]
  },
  {
   "cell_type": "code",
   "execution_count": 6,
   "id": "ba17dbad",
   "metadata": {},
   "outputs": [
    {
     "name": "stdout",
     "output_type": "stream",
     "text": [
      "00002\n"
     ]
    }
   ],
   "source": [
    "x=2\n",
    "print(\"%05d\"%x)"
   ]
  },
  {
   "cell_type": "code",
   "execution_count": 17,
   "id": "d92ec786",
   "metadata": {},
   "outputs": [
    {
     "name": "stdout",
     "output_type": "stream",
     "text": [
      "-00002\n"
     ]
    }
   ],
   "source": [
    "x=2\n",
    "print(\"-%05d\"%x)"
   ]
  },
  {
   "cell_type": "code",
   "execution_count": 18,
   "id": "0b929a14",
   "metadata": {},
   "outputs": [
    {
     "name": "stdout",
     "output_type": "stream",
     "text": [
      "2    \n"
     ]
    }
   ],
   "source": [
    "x=2\n",
    "print(\"%-05d\"%x)"
   ]
  },
  {
   "cell_type": "code",
   "execution_count": 25,
   "id": "f130ef90",
   "metadata": {},
   "outputs": [
    {
     "name": "stdout",
     "output_type": "stream",
     "text": [
      "%56s sanfoundry\n"
     ]
    }
   ],
   "source": [
    "x='sanfoundry'\n",
    "print('%56s',x)"
   ]
  },
  {
   "cell_type": "code",
   "execution_count": 26,
   "id": "e3cccdc2",
   "metadata": {},
   "outputs": [
    {
     "name": "stdout",
     "output_type": "stream",
     "text": [
      "456   \n"
     ]
    }
   ],
   "source": [
    "x=456\n",
    "print(\"%-06d\"%x)"
   ]
  },
  {
   "cell_type": "code",
   "execution_count": 27,
   "id": "8a54f11a",
   "metadata": {},
   "outputs": [
    {
     "name": "stdout",
     "output_type": "stream",
     "text": [
      "000456\n"
     ]
    }
   ],
   "source": [
    "x=456\n",
    "print(\"%06d\"%x)"
   ]
  },
  {
   "cell_type": "code",
   "execution_count": 28,
   "id": "4ae70319",
   "metadata": {},
   "outputs": [
    {
     "name": "stdout",
     "output_type": "stream",
     "text": [
      "56.00\n"
     ]
    }
   ],
   "source": [
    "x=56\n",
    "print(\"%.2f\"%x)"
   ]
  },
  {
   "cell_type": "code",
   "execution_count": 29,
   "id": "860f474c",
   "metadata": {},
   "outputs": [
    {
     "name": "stdout",
     "output_type": "stream",
     "text": [
      "56.000\n"
     ]
    }
   ],
   "source": [
    "x=56\n",
    "print(\"%.3f\"%x)"
   ]
  },
  {
   "cell_type": "code",
   "execution_count": 30,
   "id": "ba6ef9f2",
   "metadata": {},
   "outputs": [
    {
     "name": "stdout",
     "output_type": "stream",
     "text": [
      "Hello Geek! Are you enjoying being at Geeks for Geeks for preparations.\n"
     ]
    }
   ],
   "source": [
    "# declaring a string variable\n",
    "var1 = \"Geek!\"\n",
    "var2 = \"Geeks for Geeks\"\n",
    "  \n",
    "# append multiple strings within a string\n",
    "print(\"Hello %s Are you enjoying being at %s for preparations.\" % (var1, var2))\n"
   ]
  },
  {
   "cell_type": "code",
   "execution_count": 8,
   "id": "89fa0d95",
   "metadata": {},
   "outputs": [
    {
     "name": "stdout",
     "output_type": "stream",
     "text": [
      "Geeks :  1, Portal :  5.33\n",
      "Total students : 240, Boys : 120\n",
      "   0031\n",
      " 3.561E+02\n"
     ]
    }
   ],
   "source": [
    "# Python program showing how to use\n",
    "# string modulo operator(%) to print\n",
    "\n",
    "# print integer and float value\n",
    "print(\"Geeks : %2d, Portal : %5.2f\" % (1, 05.333))\n",
    " \n",
    "# print integer value\n",
    "print(\"Total students : %3d, Boys : %2d\" % (240, 120))\n",
    " \n",
    "# print octal value\n",
    "print(\"%7.4o\" % (25))\n",
    " \n",
    "# print exponential value\n",
    "print(\"%10.3E\" % (356.08977))"
   ]
  },
  {
   "cell_type": "code",
   "execution_count": 1,
   "id": "c4665ff4",
   "metadata": {},
   "outputs": [],
   "source": [
    "x=8\n",
    "y=10"
   ]
  },
  {
   "cell_type": "code",
   "execution_count": 17,
   "id": "1bcb059c",
   "metadata": {},
   "outputs": [],
   "source": [
    "x1=bin(x)"
   ]
  },
  {
   "cell_type": "code",
   "execution_count": 18,
   "id": "462af507",
   "metadata": {},
   "outputs": [],
   "source": [
    "y1=bin(y)"
   ]
  },
  {
   "cell_type": "code",
   "execution_count": 19,
   "id": "dc7f3629",
   "metadata": {},
   "outputs": [
    {
     "data": {
      "text/plain": [
       "'0b1000'"
      ]
     },
     "execution_count": 19,
     "metadata": {},
     "output_type": "execute_result"
    }
   ],
   "source": [
    "x1"
   ]
  },
  {
   "cell_type": "code",
   "execution_count": 20,
   "id": "1524e55a",
   "metadata": {},
   "outputs": [
    {
     "data": {
      "text/plain": [
       "'0b1010'"
      ]
     },
     "execution_count": 20,
     "metadata": {},
     "output_type": "execute_result"
    }
   ],
   "source": [
    "y1"
   ]
  },
  {
   "cell_type": "code",
   "execution_count": 11,
   "id": "129072b0",
   "metadata": {},
   "outputs": [
    {
     "data": {
      "text/plain": [
       "1010"
      ]
     },
     "execution_count": 11,
     "metadata": {},
     "output_type": "execute_result"
    }
   ],
   "source": [
    "1010"
   ]
  },
  {
   "cell_type": "code",
   "execution_count": 21,
   "id": "f5926221",
   "metadata": {},
   "outputs": [
    {
     "data": {
      "text/plain": [
       "8"
      ]
     },
     "execution_count": 21,
     "metadata": {},
     "output_type": "execute_result"
    }
   ],
   "source": [
    "x & y"
   ]
  },
  {
   "cell_type": "code",
   "execution_count": 22,
   "id": "3e2712cb",
   "metadata": {},
   "outputs": [
    {
     "data": {
      "text/plain": [
       "'0b1000'"
      ]
     },
     "execution_count": 22,
     "metadata": {},
     "output_type": "execute_result"
    }
   ],
   "source": [
    "bin(8)"
   ]
  },
  {
   "cell_type": "code",
   "execution_count": 23,
   "id": "c756bfad",
   "metadata": {},
   "outputs": [
    {
     "data": {
      "text/plain": [
       "8"
      ]
     },
     "execution_count": 23,
     "metadata": {},
     "output_type": "execute_result"
    }
   ],
   "source": [
    "int(0b1000)"
   ]
  },
  {
   "cell_type": "code",
   "execution_count": 28,
   "id": "f9e39941",
   "metadata": {},
   "outputs": [
    {
     "data": {
      "text/plain": [
       "'0b1000'"
      ]
     },
     "execution_count": 28,
     "metadata": {},
     "output_type": "execute_result"
    }
   ],
   "source": [
    "bin(8)"
   ]
  },
  {
   "cell_type": "code",
   "execution_count": 29,
   "id": "82a1fae4",
   "metadata": {},
   "outputs": [
    {
     "data": {
      "text/plain": [
       "-9"
      ]
     },
     "execution_count": 29,
     "metadata": {},
     "output_type": "execute_result"
    }
   ],
   "source": [
    "~x"
   ]
  },
  {
   "cell_type": "code",
   "execution_count": 30,
   "id": "88c027ba",
   "metadata": {},
   "outputs": [
    {
     "data": {
      "text/plain": [
       "'-0b1001'"
      ]
     },
     "execution_count": 30,
     "metadata": {},
     "output_type": "execute_result"
    }
   ],
   "source": [
    "bin(-9)"
   ]
  },
  {
   "cell_type": "code",
   "execution_count": 31,
   "id": "d2e3f483",
   "metadata": {},
   "outputs": [],
   "source": [
    "x1=20"
   ]
  },
  {
   "cell_type": "code",
   "execution_count": 32,
   "id": "7892b71b",
   "metadata": {},
   "outputs": [
    {
     "data": {
      "text/plain": [
       "'0b10100'"
      ]
     },
     "execution_count": 32,
     "metadata": {},
     "output_type": "execute_result"
    }
   ],
   "source": [
    "bin(x1)"
   ]
  },
  {
   "cell_type": "code",
   "execution_count": 13,
   "id": "3124b213",
   "metadata": {},
   "outputs": [],
   "source": [
    "z=9"
   ]
  },
  {
   "cell_type": "code",
   "execution_count": 14,
   "id": "dcd8673e",
   "metadata": {},
   "outputs": [
    {
     "data": {
      "text/plain": [
       "-10"
      ]
     },
     "execution_count": 14,
     "metadata": {},
     "output_type": "execute_result"
    }
   ],
   "source": [
    "~z"
   ]
  },
  {
   "cell_type": "code",
   "execution_count": 18,
   "id": "19aa3f9d",
   "metadata": {},
   "outputs": [
    {
     "data": {
      "text/plain": [
       "36"
      ]
     },
     "execution_count": 18,
     "metadata": {},
     "output_type": "execute_result"
    }
   ],
   "source": [
    "z<<2"
   ]
  },
  {
   "cell_type": "code",
   "execution_count": 19,
   "id": "08e8da2f",
   "metadata": {},
   "outputs": [
    {
     "data": {
      "text/plain": [
       "36"
      ]
     },
     "execution_count": 19,
     "metadata": {},
     "output_type": "execute_result"
    }
   ],
   "source": [
    "z<<2"
   ]
  },
  {
   "cell_type": "code",
   "execution_count": 20,
   "id": "fccb1e09",
   "metadata": {},
   "outputs": [
    {
     "data": {
      "text/plain": [
       "'0b1001'"
      ]
     },
     "execution_count": 20,
     "metadata": {},
     "output_type": "execute_result"
    }
   ],
   "source": [
    "bin(z)"
   ]
  },
  {
   "cell_type": "code",
   "execution_count": 25,
   "id": "14710346",
   "metadata": {},
   "outputs": [
    {
     "data": {
      "text/plain": [
       "4"
      ]
     },
     "execution_count": 25,
     "metadata": {},
     "output_type": "execute_result"
    }
   ],
   "source": [
    "int(0b000100)"
   ]
  },
  {
   "cell_type": "code",
   "execution_count": 23,
   "id": "290084af",
   "metadata": {},
   "outputs": [
    {
     "data": {
      "text/plain": [
       "2"
      ]
     },
     "execution_count": 23,
     "metadata": {},
     "output_type": "execute_result"
    }
   ],
   "source": [
    "z>>2"
   ]
  },
  {
   "cell_type": "code",
   "execution_count": 39,
   "id": "93c83c7a",
   "metadata": {},
   "outputs": [],
   "source": [
    "z1=60"
   ]
  },
  {
   "cell_type": "code",
   "execution_count": 38,
   "id": "33844e13",
   "metadata": {},
   "outputs": [
    {
     "data": {
      "text/plain": [
       "60"
      ]
     },
     "execution_count": 38,
     "metadata": {},
     "output_type": "execute_result"
    }
   ],
   "source": [
    "int( 0b111100)"
   ]
  },
  {
   "cell_type": "code",
   "execution_count": 33,
   "id": "b77d9f17",
   "metadata": {},
   "outputs": [
    {
     "data": {
      "text/plain": [
       "3"
      ]
     },
     "execution_count": 33,
     "metadata": {},
     "output_type": "execute_result"
    }
   ],
   "source": [
    "int(0b000011)"
   ]
  },
  {
   "cell_type": "code",
   "execution_count": 40,
   "id": "0c472386",
   "metadata": {},
   "outputs": [
    {
     "data": {
      "text/plain": [
       "-61"
      ]
     },
     "execution_count": 40,
     "metadata": {},
     "output_type": "execute_result"
    }
   ],
   "source": [
    "~z1"
   ]
  },
  {
   "cell_type": "code",
   "execution_count": 1,
   "id": "c70de560",
   "metadata": {},
   "outputs": [
    {
     "name": "stdout",
     "output_type": "stream",
     "text": [
      "    * \r\n",
      "   * * \r\n",
      "  * * * \r\n",
      " * * * * \r\n",
      "* * * * * \r\n"
     ]
    }
   ],
   "source": [
    "# Function to demonstrate printing pattern triangle\n",
    "def triangle(n):\n",
    "\n",
    "    # number of spaces\n",
    "\tk = n - 1\n",
    "\t# outer loop to handle number of rows\n",
    "\tfor i in range(0, n):\n",
    "\t\n",
    "\t\t# inner loop to handle number spaces\n",
    "\t\t# values changing acc. to requirement\n",
    "\t\tfor j in range(0, k):\n",
    "\t\t\tprint(end=\" \")\t\n",
    "\t\t# decrementing k after each loop\n",
    "\t\tk = k - 1\t\n",
    "\t\t# inner loop to handle number of columns\n",
    "\t\t# values changing acc. to outer loop\n",
    "\t\tfor j in range(0, i+1):\n",
    "\t\t\n",
    "\t\t\t# printing stars\n",
    "\t\t\tprint(\"* \", end=\"\")\t\n",
    "\t\t# ending line after each row\n",
    "\t\tprint(\"\\r\")\n",
    "# Driver Code\n",
    "n = 5\n",
    "triangle(n)"
   ]
  },
  {
   "cell_type": "code",
   "execution_count": 2,
   "id": "d42d20c8",
   "metadata": {},
   "outputs": [
    {
     "name": "stdout",
     "output_type": "stream",
     "text": [
      "     * \r\n",
      "    * * \r\n",
      "   * * * \r\n",
      "  * * * * \r\n",
      " * * * * * \r\n",
      "* * * * * * \r\n"
     ]
    }
   ],
   "source": [
    "# Function to demonstrate printing pattern triangle\n",
    "def triangle(n):\n",
    "\n",
    "    # number of spaces\n",
    "\tk = n - 1\n",
    "\t# outer loop to handle number of rows\n",
    "\tfor i in range(0, n):\n",
    "\t\n",
    "\t\t# inner loop to handle number spaces\n",
    "\t\t# values changing acc. to requirement\n",
    "\t\tfor j in range(0, k):\n",
    "\t\t\tprint(end=\" \")\t\n",
    "\t\t# decrementing k after each loop\n",
    "\t\tk = k - 1\t\n",
    "\t\t# inner loop to handle number of columns\n",
    "\t\t# values changing acc. to outer loop\n",
    "\t\tfor j in range(0, i+1):\n",
    "\t\t\n",
    "\t\t\t# printing stars\n",
    "\t\t\tprint(\"* \", end=\"\")\t\n",
    "\t\t# ending line after each row\n",
    "\t\tprint(\"\\r\")\n",
    "# Driver Code\n",
    "n = 6\n",
    "triangle(6)"
   ]
  },
  {
   "cell_type": "code",
   "execution_count": 3,
   "id": "4f1920dc",
   "metadata": {},
   "outputs": [
    {
     "name": "stdout",
     "output_type": "stream",
     "text": [
      "* \r\n"
     ]
    }
   ],
   "source": [
    "# printing stars\n",
    "print(\"* \", end=\"\")\t\n",
    "print(\"\\r\")"
   ]
  },
  {
   "cell_type": "code",
   "execution_count": 9,
   "id": "321553a3",
   "metadata": {},
   "outputs": [
    {
     "name": "stdout",
     "output_type": "stream",
     "text": [
      "*******\r\n",
      "******\r\n",
      "*****\r\n",
      "****\r\n",
      "***\r\n",
      "**\r\n",
      "*\r\n",
      "\r\n"
     ]
    }
   ],
   "source": [
    "n=8\n",
    "k=n-1\n",
    "for i in range(0,n):\n",
    "    for j in range(0,k):\n",
    "        print(\"*\", end=\"\")\n",
    "    print(\"\\r\")\n",
    "    k=k-1\n",
    "\n"
   ]
  },
  {
   "cell_type": "code",
   "execution_count": 18,
   "id": "3f7fbc8d",
   "metadata": {},
   "outputs": [
    {
     "data": {
      "text/plain": [
       "'3.345679 | 3.345679e+00 | 3.34568'"
      ]
     },
     "execution_count": 18,
     "metadata": {},
     "output_type": "execute_result"
    }
   ],
   "source": [
    "x=3.3456789\n",
    "'%f | %e | %g' %(x, x, x)\n"
   ]
  },
  {
   "cell_type": "code",
   "execution_count": 21,
   "id": "dcfa48fc",
   "metadata": {},
   "outputs": [
    {
     "data": {
      "text/plain": [
       "'3.34568'"
      ]
     },
     "execution_count": 21,
     "metadata": {},
     "output_type": "execute_result"
    }
   ],
   "source": [
    "x=3.3456789\n",
    "'%g' %(x)"
   ]
  },
  {
   "cell_type": "code",
   "execution_count": 26,
   "id": "2384b4e4",
   "metadata": {},
   "outputs": [
    {
     "name": "stdout",
     "output_type": "stream",
     "text": [
      "giacomo 4.35555555555555 4 4.355556 4.35556\n"
     ]
    }
   ],
   "source": [
    "name ='giacomo'\n",
    "number = 4.35555555555555\n",
    "print('%s %s %d %f %g' % (name, number, number, number, number))\n"
   ]
  },
  {
   "cell_type": "code",
   "execution_count": 18,
   "id": "5f2dcc9d",
   "metadata": {},
   "outputs": [
    {
     "name": "stdout",
     "output_type": "stream",
     "text": [
      "--00122\n"
     ]
    }
   ],
   "source": [
    "x=-122\n",
    "print('-%06d'%x)"
   ]
  },
  {
   "cell_type": "code",
   "execution_count": 17,
   "id": "27dcee4c",
   "metadata": {},
   "outputs": [
    {
     "name": "stdout",
     "output_type": "stream",
     "text": [
      "         san-foundry\n"
     ]
    }
   ],
   "source": [
    "x='san-foundry'\n",
    "print('%20s'%x)"
   ]
  },
  {
   "cell_type": "code",
   "execution_count": 19,
   "id": "83d1c8c8",
   "metadata": {},
   "outputs": [
    {
     "data": {
      "text/plain": [
       "'integers:....1234...1234  ...001234'"
      ]
     },
     "execution_count": 19,
     "metadata": {},
     "output_type": "execute_result"
    }
   ],
   "source": [
    "x=1234\n",
    "res='integers:....%d...%-6d...%06d'%(x,x,x)\n",
    "res"
   ]
  },
  {
   "cell_type": "code",
   "execution_count": 4,
   "id": "541b500f",
   "metadata": {},
   "outputs": [
    {
     "name": "stdout",
     "output_type": "stream",
     "text": [
      "00456\n"
     ]
    }
   ],
   "source": [
    "x=456\n",
    "print(\"%05d\"%x)\n"
   ]
  },
  {
   "cell_type": "code",
   "execution_count": 2,
   "id": "c3040421",
   "metadata": {},
   "outputs": [
    {
     "name": "stdout",
     "output_type": "stream",
     "text": [
      "0\n",
      "1\n",
      "2\n",
      "3\n",
      "4\n",
      "5\n",
      "6\n",
      "7\n",
      "8\n",
      "9\n",
      "10\n",
      "Reverse For loop\n",
      "10\n",
      "9\n",
      "8\n",
      "7\n",
      "6\n",
      "5\n",
      "4\n",
      "3\n",
      "2\n",
      "1\n",
      "0\n",
      "even nos between 1 to 100\n",
      "0\n",
      "2\n",
      "4\n",
      "6\n",
      "8\n",
      "10\n",
      "12\n",
      "14\n",
      "16\n",
      "18\n",
      "20\n",
      "22\n",
      "24\n",
      "26\n",
      "28\n",
      "30\n",
      "32\n",
      "34\n",
      "36\n",
      "38\n",
      "40\n",
      "42\n",
      "44\n",
      "46\n",
      "48\n",
      "50\n",
      "52\n",
      "54\n",
      "56\n",
      "58\n",
      "60\n",
      "62\n",
      "64\n",
      "66\n",
      "68\n",
      "70\n",
      "72\n",
      "74\n",
      "76\n",
      "78\n",
      "80\n",
      "82\n",
      "84\n",
      "86\n",
      "88\n",
      "90\n",
      "92\n",
      "94\n",
      "96\n",
      "98\n",
      "100\n",
      "odd nos between 1 to 100\n",
      "1\n",
      "3\n",
      "5\n",
      "7\n",
      "9\n",
      "11\n",
      "13\n",
      "15\n",
      "17\n",
      "19\n",
      "21\n",
      "23\n",
      "25\n",
      "27\n",
      "29\n",
      "31\n",
      "33\n",
      "35\n",
      "37\n",
      "39\n",
      "41\n",
      "43\n",
      "45\n",
      "47\n",
      "49\n",
      "51\n",
      "53\n",
      "55\n",
      "57\n",
      "59\n",
      "61\n",
      "63\n",
      "65\n",
      "67\n",
      "69\n",
      "71\n",
      "73\n",
      "75\n",
      "77\n",
      "79\n",
      "81\n",
      "83\n",
      "85\n",
      "87\n",
      "89\n",
      "91\n",
      "93\n",
      "95\n",
      "97\n",
      "99\n"
     ]
    }
   ],
   "source": [
    "i=0 #initialization\n",
    "while(i<=10):\n",
    "    print(i)\n",
    "    i=i+1\n",
    "print('Reverse For loop')\n",
    "i=10\n",
    "while(i>=0):\n",
    "    print(i)\n",
    "    i=i-1\n",
    "print('even nos between 1 to 100')\n",
    "i=0 #initialization\n",
    "while(i<=100):\n",
    "    print(i)\n",
    "    i=i+2\n",
    "print('odd nos between 1 to 100')\n",
    "i=1 #initialization\n",
    "while(i<=100):\n",
    "    print(i)\n",
    "    i=i+2\n"
   ]
  },
  {
   "cell_type": "code",
   "execution_count": 3,
   "id": "cb18b274",
   "metadata": {},
   "outputs": [
    {
     "name": "stdout",
     "output_type": "stream",
     "text": [
      "enter n6\n",
      "6 X 1 = 6\n",
      "6 X 2 = 12\n",
      "6 X 3 = 18\n",
      "6 X 4 = 24\n",
      "6 X 5 = 30\n",
      "6 X 6 = 36\n",
      "6 X 7 = 42\n",
      "6 X 8 = 48\n",
      "6 X 9 = 54\n",
      "6 X 10 = 60\n"
     ]
    }
   ],
   "source": [
    "n=int(input('enter n'))\n",
    "i=1\n",
    "while(i<=10):\n",
    "    print('{0} X {1} = {2}'.format(n,i,n*i))\n",
    "    i=i+1\n"
   ]
  },
  {
   "cell_type": "code",
   "execution_count": 4,
   "id": "0155350d",
   "metadata": {},
   "outputs": [
    {
     "name": "stdout",
     "output_type": "stream",
     "text": [
      "1\n",
      "2\n",
      "3\n",
      "4\n",
      "5\n",
      "6\n",
      "7\n",
      "8\n",
      "9\n",
      "10\n",
      "negative for loop\n",
      "10\n",
      "9\n",
      "8\n",
      "7\n",
      "6\n",
      "5\n",
      "4\n",
      "3\n",
      "2\n",
      "1\n"
     ]
    }
   ],
   "source": [
    "for i in range(1,11,1):\n",
    "    print(i)\n",
    "print('negative for loop')\n",
    "for i in range(10,0,-1):\n",
    "    print(i)"
   ]
  },
  {
   "cell_type": "code",
   "execution_count": 5,
   "id": "bcaf2c3a",
   "metadata": {},
   "outputs": [
    {
     "name": "stdout",
     "output_type": "stream",
     "text": [
      "1\n",
      "2\n",
      "3\n",
      "4\n",
      "5\n",
      "6\n",
      "7\n",
      "8\n",
      "9\n",
      "10\n",
      "negative for loop\n",
      "10\n",
      "9\n",
      "8\n",
      "7\n",
      "6\n",
      "5\n",
      "4\n",
      "3\n",
      "2\n",
      "1\n"
     ]
    }
   ],
   "source": [
    "for i in range(1,11,1):\n",
    "    print(i)\n",
    "print('negative for loop')\n",
    "for i in range(10,0,-1):\n",
    "    print(i)"
   ]
  },
  {
   "cell_type": "code",
   "execution_count": 6,
   "id": "1724fb2d",
   "metadata": {},
   "outputs": [
    {
     "name": "stdout",
     "output_type": "stream",
     "text": [
      "Enter the value of a : 5\n",
      "Enter the value of b : 6\n",
      "Addition of  5 and 6 is  11\n",
      "Substraction of 5 and 6 is -1\n",
      "Multiplication of 5 and 6 is 30\n",
      "Division of 5 and 6 is 0.8333333333333334\n",
      "Addition of 5 and 6 is 11\n",
      "Square of 5 is 25\n"
     ]
    }
   ],
   "source": [
    "a=int(input('Enter the value of a : ')) #typecasting\n",
    "b=int(input('Enter the value of b : ')) #typecasting\n",
    "c=a+b\n",
    "print('Addition of ', a ,'and', b ,'is ',c)\n",
    "print('Substraction of {0} and {1} is {2}'.format(a,b,a-b))\n",
    "print('Multiplication of {0} and {1} is {2}'.format(a,b,a*b))\n",
    "print('Division of {0} and {1} is {2}'.format(a,b,a/b))\n",
    "print('Addition of {0} and {1} is {2}'.format(a,b,a+b))\n",
    "print('Square of {0} is {1}'.format(a,a**2))"
   ]
  },
  {
   "cell_type": "code",
   "execution_count": 7,
   "id": "9f715128",
   "metadata": {},
   "outputs": [
    {
     "name": "stdout",
     "output_type": "stream",
     "text": [
      "Enter the value of a : 7\n",
      "Enter the value of b : 8\n",
      "Addition of  7 and 8 is  15\n",
      "Substraction of 7 and 8 is -1\n",
      "Multiplication of 7 and 8 is 56\n",
      "Division of 7 and 8 is 0.875\n",
      "Addition of 7 and 8 is 15\n",
      "Square of 7 is 49\n"
     ]
    }
   ],
   "source": [
    "a=int(input('Enter the value of a : ')) #typecasting\n",
    "b=int(input('Enter the value of b : ')) #typecasting\n",
    "c=a+b\n",
    "print('Addition of ', a ,'and', b ,'is ',c)\n",
    "print('Substraction of {0} and {1} is {2}'.format(a,b,a-b))\n",
    "print('Multiplication of {0} and {1} is {2}'.format(a,b,a*b))\n",
    "print('Division of {0} and {1} is {2}'.format(a,b,a/b))\n",
    "print('Addition of {0} and {1} is {2}'.format(a,b,a+b))\n",
    "print('Square of {0} is {1}'.format(a,a**2))"
   ]
  },
  {
   "cell_type": "code",
   "execution_count": 8,
   "id": "fc924999",
   "metadata": {},
   "outputs": [
    {
     "name": "stdout",
     "output_type": "stream",
     "text": [
      "1\n",
      "2\n",
      "3\n",
      "4\n",
      "5\n",
      "6\n",
      "7\n",
      "8\n",
      "9\n",
      "10\n",
      "negative for loop\n",
      "10\n",
      "9\n",
      "8\n",
      "7\n",
      "6\n",
      "5\n",
      "4\n",
      "3\n",
      "2\n",
      "1\n"
     ]
    }
   ],
   "source": [
    "for i in range(1,11,1):\n",
    "    print(i)\n",
    "print('negative for loop')\n",
    "for i in range(10,0,-1):\n",
    "    print(i)"
   ]
  },
  {
   "cell_type": "code",
   "execution_count": 9,
   "id": "cadbbf73",
   "metadata": {},
   "outputs": [
    {
     "name": "stdout",
     "output_type": "stream",
     "text": [
      "Enter the value of a : 7\n",
      "Enter the value of b : 9\n",
      "Addition of  7 and 9 is  16\n",
      "Substraction of 7 and 9 is -2\n",
      "Multiplication of 7 and 9 is 63\n",
      "Division of 7 and 9 is 0.7777777777777778\n",
      "Addition of 7 and 9 is 16\n",
      "Square of 7 is 49\n"
     ]
    }
   ],
   "source": [
    "a=int(input('Enter the value of a : ')) #typecasting\n",
    "b=int(input('Enter the value of b : ')) #typecasting\n",
    "c=a+b\n",
    "print('Addition of ', a ,'and', b ,'is ',c)\n",
    "print('Substraction of {0} and {1} is {2}'.format(a,b,a-b))\n",
    "print('Multiplication of {0} and {1} is {2}'.format(a,b,a*b))\n",
    "print('Division of {0} and {1} is {2}'.format(a,b,a/b))\n",
    "print('Addition of {0} and {1} is {2}'.format(a,b,a+b))\n",
    "print('Square of {0} is {1}'.format(a,a**2))"
   ]
  },
  {
   "cell_type": "code",
   "execution_count": 13,
   "id": "56b183d7",
   "metadata": {},
   "outputs": [
    {
     "name": "stdout",
     "output_type": "stream",
     "text": [
      "Enter the value of a : 7\n",
      "Enter the value of b : 9\n",
      "b is maximum\n"
     ]
    }
   ],
   "source": [
    "a=int(input('Enter the value of a : ')) \n",
    "b=int(input('Enter the value of b : '))\n",
    "if(a>b):\n",
    "    print('a is maximum')\n",
    "else:\n",
    "    print('b is maximum')"
   ]
  },
  {
   "cell_type": "code",
   "execution_count": 14,
   "id": "0831842a",
   "metadata": {},
   "outputs": [
    {
     "ename": "SyntaxError",
     "evalue": "invalid syntax (<ipython-input-14-d7bf66e99d7d>, line 12)",
     "output_type": "error",
     "traceback": [
      "\u001b[1;36m  File \u001b[1;32m\"<ipython-input-14-d7bf66e99d7d>\"\u001b[1;36m, line \u001b[1;32m12\u001b[0m\n\u001b[1;33m    if(marks<40):\u001b[0m\n\u001b[1;37m                ^\u001b[0m\n\u001b[1;31mSyntaxError\u001b[0m\u001b[1;31m:\u001b[0m invalid syntax\n"
     ]
    }
   ],
   "source": [
    "a=int(input('Enter the value of a : ')) \n",
    "b=int(input('Enter the value of b : '))\n",
    "c=int(input('Enter the value of c : '))\n",
    "if(a>b) & (a>c):\n",
    "    print('a is maximum')\n",
    "elif(b>c):\n",
    "    print('b is maximum')\n",
    "else :\n",
    "    print('c is maximum')\n",
    "\n",
    "marks=int(input('Enter the marks :')\n",
    "if(marks<40):\n",
    "     print('Fail')\n",
    "elif(marks<60):\n",
    "    print('second class')\n",
    "elif(marks<75):\n",
    "    print('first Class')\n",
    "else:\n",
    "    print('Distinction')"
   ]
  },
  {
   "cell_type": "code",
   "execution_count": null,
   "id": "8cf74552",
   "metadata": {},
   "outputs": [],
   "source": []
  }
 ],
 "metadata": {
  "kernelspec": {
   "display_name": "Python 3",
   "language": "python",
   "name": "python3"
  },
  "language_info": {
   "codemirror_mode": {
    "name": "ipython",
    "version": 3
   },
   "file_extension": ".py",
   "mimetype": "text/x-python",
   "name": "python",
   "nbconvert_exporter": "python",
   "pygments_lexer": "ipython3",
   "version": "3.8.8"
  }
 },
 "nbformat": 4,
 "nbformat_minor": 5
}
