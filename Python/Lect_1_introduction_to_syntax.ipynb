{
  "cells": [
    {
      "cell_type": "markdown",
      "id": "0fca33e4",
      "metadata": {
        "id": "0fca33e4"
      },
      "source": [
        "This note book is for basic syntax\n"
      ]
    },
    {
      "cell_type": "markdown",
      "id": "3866efb0",
      "metadata": {
        "id": "3866efb0"
      },
      "source": [
        "Example of integer : 4,5,-4\n",
        "Example of floating point: 4.6,5.0,-4.5\n",
        "Example of boolean Value: True , False"
      ]
    },
    {
      "cell_type": "code",
      "execution_count": null,
      "id": "dd60493d",
      "metadata": {
        "id": "dd60493d",
        "outputId": "b2dc5ca5-08cc-4e92-ea7e-11a3c3506435"
      },
      "outputs": [
        {
          "data": {
            "text/plain": [
              "5"
            ]
          },
          "execution_count": 1,
          "metadata": {},
          "output_type": "execute_result"
        }
      ],
      "source": [
        "x = 5\n",
        "x"
      ]
    },
    {
      "cell_type": "code",
      "execution_count": null,
      "id": "40f9ad0a",
      "metadata": {
        "id": "40f9ad0a",
        "outputId": "e8cbf8db-fc14-430e-dee6-55833ee869c5"
      },
      "outputs": [
        {
          "name": "stdout",
          "output_type": "stream",
          "text": [
            "5\n"
          ]
        }
      ],
      "source": [
        "print (x)\n"
      ]
    },
    {
      "cell_type": "code",
      "execution_count": null,
      "id": "ced60dd8",
      "metadata": {
        "id": "ced60dd8",
        "outputId": "c70e2881-3d0f-43db-ee66-d7922171ad1e"
      },
      "outputs": [
        {
          "data": {
            "text/plain": [
              "'Vichare'"
            ]
          },
          "execution_count": 3,
          "metadata": {},
          "output_type": "execute_result"
        }
      ],
      "source": [
        "\"Vichare\""
      ]
    },
    {
      "cell_type": "code",
      "execution_count": null,
      "id": "1171c47e",
      "metadata": {
        "id": "1171c47e",
        "outputId": "732a8146-8dd0-4c83-aa49-93a61571c56b"
      },
      "outputs": [
        {
          "data": {
            "text/plain": [
              "'Vichare'"
            ]
          },
          "execution_count": 4,
          "metadata": {},
          "output_type": "execute_result"
        }
      ],
      "source": [
        "'Vichare'"
      ]
    },
    {
      "cell_type": "code",
      "execution_count": null,
      "id": "29bb37a7",
      "metadata": {
        "id": "29bb37a7",
        "outputId": "591288c6-8ab5-4dd6-bf6e-724331787d9d"
      },
      "outputs": [
        {
          "name": "stdout",
          "output_type": "stream",
          "text": [
            "Vichare\n"
          ]
        }
      ],
      "source": [
        "print ('Vichare')"
      ]
    },
    {
      "cell_type": "code",
      "execution_count": null,
      "id": "097dbf95",
      "metadata": {
        "id": "097dbf95",
        "outputId": "79abe7eb-78ac-4fc9-9a7b-d8928bb0491a"
      },
      "outputs": [
        {
          "data": {
            "text/plain": [
              "\"press 'Enter'\""
            ]
          },
          "execution_count": 6,
          "metadata": {},
          "output_type": "execute_result"
        }
      ],
      "source": [
        "\"press 'Enter'\""
      ]
    },
    {
      "cell_type": "code",
      "execution_count": null,
      "id": "049076cf",
      "metadata": {
        "id": "049076cf",
        "outputId": "a3c82410-0a1a-4fc8-eec0-b8165294d0ee"
      },
      "outputs": [
        {
          "name": "stdout",
          "output_type": "stream",
          "text": [
            "redcar\n"
          ]
        }
      ],
      "source": [
        "print(\"red\" + \"car\")"
      ]
    },
    {
      "cell_type": "code",
      "execution_count": null,
      "id": "56cc0e03",
      "metadata": {
        "id": "56cc0e03",
        "outputId": "92282a2e-5253-4f8c-b7b8-12609b8268d4"
      },
      "outputs": [
        {
          "name": "stdout",
          "output_type": "stream",
          "text": [
            "red car\n"
          ]
        }
      ],
      "source": [
        "print(\"red\" , \"car\")"
      ]
    },
    {
      "cell_type": "markdown",
      "id": "73cf12c2",
      "metadata": {
        "id": "73cf12c2"
      },
      "source": [
        "Method for inputing integer\n"
      ]
    },
    {
      "cell_type": "code",
      "execution_count": null,
      "id": "b7ba0274",
      "metadata": {
        "id": "b7ba0274",
        "outputId": "d4d7cf68-a06b-4b55-f3fe-c782d45c4fd0"
      },
      "outputs": [
        {
          "name": "stdout",
          "output_type": "stream",
          "text": [
            "n1 =6\n",
            "n2=7\n",
            "n3 =9\n",
            "n4=5\n",
            "n1= 6\n",
            "n2= 7\n",
            "n3= 9\n",
            "n4= 5\n"
          ]
        }
      ],
      "source": [
        "n1 =int(input(\"n1 =\"))\n",
        "n2 =int(input(\"n2=\"))\n",
        "n3=int(input(\"n3 =\"))\n",
        "n4=int(input(\"n4=\"))\n",
        "print (\"n1=\",n1)\n",
        "print (\"n2=\",n2)\n",
        "print (\"n3=\",n3)\n",
        "print (\"n4=\",n4)\n"
      ]
    },
    {
      "cell_type": "code",
      "execution_count": null,
      "id": "fcba92a1",
      "metadata": {
        "id": "fcba92a1",
        "outputId": "5c4da7e7-e94c-421f-b7a9-a635e0435684"
      },
      "outputs": [
        {
          "data": {
            "text/plain": [
              "12.5"
            ]
          },
          "execution_count": 7,
          "metadata": {},
          "output_type": "execute_result"
        }
      ],
      "source": [
        "#line coninuation\n",
        "(5*1.5)\\\n",
        "+5\n"
      ]
    },
    {
      "cell_type": "code",
      "execution_count": null,
      "id": "a3775090",
      "metadata": {
        "id": "a3775090"
      },
      "outputs": [],
      "source": []
    },
    {
      "cell_type": "code",
      "execution_count": null,
      "id": "a2bbda62",
      "metadata": {
        "id": "a2bbda62"
      },
      "outputs": [],
      "source": []
    }
  ],
  "metadata": {
    "kernelspec": {
      "display_name": "Python 3 (ipykernel)",
      "language": "python",
      "name": "python3"
    },
    "language_info": {
      "codemirror_mode": {
        "name": "ipython",
        "version": 3
      },
      "file_extension": ".py",
      "mimetype": "text/x-python",
      "name": "python",
      "nbconvert_exporter": "python",
      "pygments_lexer": "ipython3",
      "version": "3.9.7"
    },
    "colab": {
      "provenance": []
    }
  },
  "nbformat": 4,
  "nbformat_minor": 5
}