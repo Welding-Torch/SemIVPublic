{
  "cells": [
    {
      "cell_type": "markdown",
      "id": "886f111f",
      "metadata": {
        "id": "886f111f"
      },
      "source": [
        "# ARITHMATIC OPERATORS"
      ]
    },
    {
      "cell_type": "code",
      "execution_count": null,
      "id": "098489d5",
      "metadata": {
        "id": "098489d5"
      },
      "outputs": [],
      "source": [
        "a=18\n",
        "b=7"
      ]
    },
    {
      "cell_type": "code",
      "execution_count": null,
      "id": "18357350",
      "metadata": {
        "id": "18357350",
        "outputId": "61e305ae-9c4b-4086-91cb-0cdd3145fe83"
      },
      "outputs": [
        {
          "name": "stdout",
          "output_type": "stream",
          "text": [
            "a+b= 25\n"
          ]
        }
      ],
      "source": [
        "print('a+b=', a+b)"
      ]
    },
    {
      "cell_type": "code",
      "execution_count": null,
      "id": "fd3ac16a",
      "metadata": {
        "id": "fd3ac16a",
        "outputId": "760e3163-1e7e-4e22-9bb6-4fa620eb2d1a"
      },
      "outputs": [
        {
          "name": "stdout",
          "output_type": "stream",
          "text": [
            "a-b= 11\n"
          ]
        }
      ],
      "source": [
        "print('a-b=', a-b)"
      ]
    },
    {
      "cell_type": "code",
      "execution_count": null,
      "id": "99cbbb79",
      "metadata": {
        "id": "99cbbb79",
        "outputId": "bd0d72b9-b06d-4908-8a7e-1bfc2f73a2a7"
      },
      "outputs": [
        {
          "name": "stdout",
          "output_type": "stream",
          "text": [
            "a x b= 126\n"
          ]
        }
      ],
      "source": [
        "print('a x b=', a*b)"
      ]
    },
    {
      "cell_type": "code",
      "execution_count": null,
      "id": "ea4d0856",
      "metadata": {
        "id": "ea4d0856",
        "outputId": "a0c0af7e-2ac8-41a0-81e9-db86d691c07e"
      },
      "outputs": [
        {
          "name": "stdout",
          "output_type": "stream",
          "text": [
            "a/b= 2.5714285714285716\n"
          ]
        }
      ],
      "source": [
        "print('a/b=', a/b)"
      ]
    },
    {
      "cell_type": "code",
      "execution_count": null,
      "id": "714c56f1",
      "metadata": {
        "id": "714c56f1",
        "outputId": "9d393a88-28d9-4980-c27d-fa0d9b2ec376"
      },
      "outputs": [
        {
          "name": "stdout",
          "output_type": "stream",
          "text": [
            "floor value of a/b= 2\n"
          ]
        }
      ],
      "source": [
        "print('floor value of a/b=', a//b)"
      ]
    },
    {
      "cell_type": "code",
      "execution_count": null,
      "id": "530376eb",
      "metadata": {
        "id": "530376eb",
        "outputId": "7bc1caaf-ab71-4e31-adf8-fe9feb8e6855"
      },
      "outputs": [
        {
          "name": "stdout",
          "output_type": "stream",
          "text": [
            "remender of a/b= 4\n"
          ]
        }
      ],
      "source": [
        "print('remender of a/b=', a%b)"
      ]
    },
    {
      "cell_type": "code",
      "execution_count": null,
      "id": "1938dd6d",
      "metadata": {
        "id": "1938dd6d",
        "outputId": "c5580b05-b03e-4452-94bb-179e50914313"
      },
      "outputs": [
        {
          "name": "stdout",
          "output_type": "stream",
          "text": [
            "bth power  of a= 612220032\n"
          ]
        }
      ],
      "source": [
        "print('bth power  of a=', a**b)"
      ]
    },
    {
      "cell_type": "markdown",
      "id": "a01989a4",
      "metadata": {
        "id": "a01989a4"
      },
      "source": [
        "# Relational Operators"
      ]
    },
    {
      "cell_type": "code",
      "execution_count": null,
      "id": "00a6eb9b",
      "metadata": {
        "id": "00a6eb9b",
        "outputId": "4f6cd2b2-5a96-42e7-ad98-81b53fd15eee"
      },
      "outputs": [
        {
          "name": "stdout",
          "output_type": "stream",
          "text": [
            "a is greater than b= True\n",
            "a is less than b= False\n",
            "a is equal to b= False\n",
            "a is greater thaor equal to b= True\n",
            "a is less than or equal to b= False\n"
          ]
        }
      ],
      "source": [
        "a=18\n",
        "b=7\n",
        "print('a is greater than b=',a>b)\n",
        "print('a is less than b=',a<b)\n",
        "print('a is equal to b=',a==b)\n",
        "print('a is greater thaor equal to b=',a>=b)\n",
        "print('a is less than or equal to b=',a<=b)"
      ]
    },
    {
      "cell_type": "markdown",
      "id": "642f6f12",
      "metadata": {
        "id": "642f6f12"
      },
      "source": [
        "# Logical Operators"
      ]
    },
    {
      "cell_type": "code",
      "execution_count": null,
      "id": "9f1662f4",
      "metadata": {
        "id": "9f1662f4",
        "outputId": "01d47ebc-745a-4a48-d077-2f0a0ba106d9"
      },
      "outputs": [
        {
          "data": {
            "text/plain": [
              "True"
            ]
          },
          "execution_count": 9,
          "metadata": {},
          "output_type": "execute_result"
        }
      ],
      "source": [
        "True and True"
      ]
    },
    {
      "cell_type": "code",
      "execution_count": null,
      "id": "7fddbad4",
      "metadata": {
        "id": "7fddbad4",
        "outputId": "cef9052c-f45c-48df-a6a6-4cc9433e1bfb"
      },
      "outputs": [
        {
          "data": {
            "text/plain": [
              "False"
            ]
          },
          "execution_count": 10,
          "metadata": {},
          "output_type": "execute_result"
        }
      ],
      "source": [
        "True and False"
      ]
    },
    {
      "cell_type": "code",
      "execution_count": null,
      "id": "fe893b5a",
      "metadata": {
        "id": "fe893b5a",
        "outputId": "b87d3b49-aa54-43e8-8a6c-4da883b0e9b0"
      },
      "outputs": [
        {
          "data": {
            "text/plain": [
              "False"
            ]
          },
          "execution_count": 11,
          "metadata": {},
          "output_type": "execute_result"
        }
      ],
      "source": [
        "False and False"
      ]
    },
    {
      "cell_type": "code",
      "execution_count": null,
      "id": "2f1b062f",
      "metadata": {
        "id": "2f1b062f",
        "outputId": "33766abe-9a2e-43b2-8486-f2ec8c9897b3"
      },
      "outputs": [
        {
          "data": {
            "text/plain": [
              "False"
            ]
          },
          "execution_count": 12,
          "metadata": {},
          "output_type": "execute_result"
        }
      ],
      "source": [
        "False or False"
      ]
    },
    {
      "cell_type": "code",
      "execution_count": null,
      "id": "474ee500",
      "metadata": {
        "id": "474ee500",
        "outputId": "651d7d96-d025-47bb-b6c0-afb1424dc963"
      },
      "outputs": [
        {
          "data": {
            "text/plain": [
              "True"
            ]
          },
          "execution_count": 13,
          "metadata": {},
          "output_type": "execute_result"
        }
      ],
      "source": [
        "True or True"
      ]
    },
    {
      "cell_type": "code",
      "execution_count": null,
      "id": "799aaf9e",
      "metadata": {
        "id": "799aaf9e",
        "outputId": "ba2334df-71b6-449b-82c7-edc2e5763f7b"
      },
      "outputs": [
        {
          "data": {
            "text/plain": [
              "True"
            ]
          },
          "execution_count": 14,
          "metadata": {},
          "output_type": "execute_result"
        }
      ],
      "source": [
        "False or True"
      ]
    },
    {
      "cell_type": "code",
      "execution_count": null,
      "id": "7f3b560f",
      "metadata": {
        "id": "7f3b560f",
        "outputId": "db297bf9-093f-4b9e-f350-92a601e5e34b"
      },
      "outputs": [
        {
          "data": {
            "text/plain": [
              "True"
            ]
          },
          "execution_count": 15,
          "metadata": {},
          "output_type": "execute_result"
        }
      ],
      "source": [
        "not False"
      ]
    },
    {
      "cell_type": "code",
      "execution_count": null,
      "id": "070e3fb3",
      "metadata": {
        "id": "070e3fb3",
        "outputId": "fed6f0d9-86f7-4638-a133-c6de5e888888"
      },
      "outputs": [
        {
          "data": {
            "text/plain": [
              "False"
            ]
          },
          "execution_count": 16,
          "metadata": {},
          "output_type": "execute_result"
        }
      ],
      "source": [
        "not True"
      ]
    },
    {
      "cell_type": "code",
      "execution_count": null,
      "id": "ba300e62",
      "metadata": {
        "id": "ba300e62",
        "outputId": "df12aac8-922a-418e-e3ad-d634f84475b3"
      },
      "outputs": [
        {
          "data": {
            "text/plain": [
              "False"
            ]
          },
          "execution_count": 17,
          "metadata": {},
          "output_type": "execute_result"
        }
      ],
      "source": [
        "3>5 and 10<=20"
      ]
    },
    {
      "cell_type": "code",
      "execution_count": null,
      "id": "ee26b2d6",
      "metadata": {
        "id": "ee26b2d6",
        "outputId": "16761eb5-dbff-4458-c02c-d05698ba02d8"
      },
      "outputs": [
        {
          "ename": "SyntaxError",
          "evalue": "invalid syntax (Temp/ipykernel_4428/1728310571.py, line 1)",
          "output_type": "error",
          "traceback": [
            "\u001b[1;36m  File \u001b[1;32m\"C:\\Users\\Lenovo\\AppData\\Local\\Temp/ipykernel_4428/1728310571.py\"\u001b[1;36m, line \u001b[1;32m1\u001b[0m\n\u001b[1;33m    not and or\u001b[0m\n\u001b[1;37m        ^\u001b[0m\n\u001b[1;31mSyntaxError\u001b[0m\u001b[1;31m:\u001b[0m invalid syntax\n"
          ]
        }
      ],
      "source": [
        "not and or"
      ]
    },
    {
      "cell_type": "code",
      "execution_count": null,
      "id": "69438184",
      "metadata": {
        "id": "69438184",
        "outputId": "0bba4485-2717-453c-c4ca-493117043d80"
      },
      "outputs": [
        {
          "data": {
            "text/plain": [
              "False"
            ]
          },
          "execution_count": 19,
          "metadata": {},
          "output_type": "execute_result"
        }
      ],
      "source": [
        " True and not True"
      ]
    },
    {
      "cell_type": "code",
      "execution_count": null,
      "id": "5f670b73",
      "metadata": {
        "id": "5f670b73"
      },
      "outputs": [],
      "source": [
        "#False or not True and True"
      ]
    },
    {
      "cell_type": "code",
      "execution_count": null,
      "id": "fde328ce",
      "metadata": {
        "id": "fde328ce"
      },
      "outputs": [],
      "source": [
        "#True and not True or True"
      ]
    },
    {
      "cell_type": "markdown",
      "id": "2a115c09",
      "metadata": {
        "id": "2a115c09"
      },
      "source": [
        "# Assignment Operators"
      ]
    },
    {
      "cell_type": "code",
      "execution_count": null,
      "id": "01e662ba",
      "metadata": {
        "id": "01e662ba"
      },
      "outputs": [],
      "source": [
        "#a=18\n",
        "\n",
        "#print ('value of a=',a)\n",
        "#a+=2\n",
        "#print('a+2=',a)\n",
        "#a-=2\n",
        "#print('a-2=',a)\n",
        "#a*=2\n",
        "#print('a*2=',a)\n",
        "#a/=2\n",
        "#print('a/2=',a)\n",
        "#a%=2\n",
        "\n"
      ]
    },
    {
      "cell_type": "markdown",
      "id": "487763bd",
      "metadata": {
        "id": "487763bd"
      },
      "source": [
        "# Membership operators"
      ]
    },
    {
      "cell_type": "code",
      "execution_count": null,
      "id": "bd5e4773",
      "metadata": {
        "id": "bd5e4773"
      },
      "outputs": [],
      "source": [
        "a=[5,4,6,8]\n",
        "b=8\n",
        "c=10"
      ]
    },
    {
      "cell_type": "code",
      "execution_count": null,
      "id": "6124cef7",
      "metadata": {
        "id": "6124cef7",
        "outputId": "76eef333-b3fe-439e-ff88-a3acd0c77b8d"
      },
      "outputs": [
        {
          "ename": "TypeError",
          "evalue": "argument of type 'int' is not iterable",
          "output_type": "error",
          "traceback": [
            "\u001b[1;31m---------------------------------------------------------------------------\u001b[0m",
            "\u001b[1;31mTypeError\u001b[0m                                 Traceback (most recent call last)",
            "\u001b[1;32m~\\AppData\\Local\\Temp/ipykernel_4428/2477020749.py\u001b[0m in \u001b[0;36m<module>\u001b[1;34m\u001b[0m\n\u001b[1;32m----> 1\u001b[1;33m \u001b[0mb\u001b[0m \u001b[1;32min\u001b[0m \u001b[0ma\u001b[0m\u001b[1;33m\u001b[0m\u001b[1;33m\u001b[0m\u001b[0m\n\u001b[0m",
            "\u001b[1;31mTypeError\u001b[0m: argument of type 'int' is not iterable"
          ]
        }
      ],
      "source": [
        "b in a"
      ]
    },
    {
      "cell_type": "code",
      "execution_count": null,
      "id": "9146647f",
      "metadata": {
        "id": "9146647f",
        "outputId": "2e2f383c-447f-4a43-f38b-2e65d023cffd"
      },
      "outputs": [
        {
          "ename": "NameError",
          "evalue": "name 'c' is not defined",
          "output_type": "error",
          "traceback": [
            "\u001b[1;31m---------------------------------------------------------------------------\u001b[0m",
            "\u001b[1;31mNameError\u001b[0m                                 Traceback (most recent call last)",
            "\u001b[1;32m~\\AppData\\Local\\Temp/ipykernel_4428/3832658241.py\u001b[0m in \u001b[0;36m<module>\u001b[1;34m\u001b[0m\n\u001b[1;32m----> 1\u001b[1;33m \u001b[0mc\u001b[0m \u001b[1;32min\u001b[0m \u001b[0ma\u001b[0m\u001b[1;33m\u001b[0m\u001b[1;33m\u001b[0m\u001b[0m\n\u001b[0m",
            "\u001b[1;31mNameError\u001b[0m: name 'c' is not defined"
          ]
        }
      ],
      "source": [
        "c in a"
      ]
    },
    {
      "cell_type": "code",
      "execution_count": null,
      "id": "73d80849",
      "metadata": {
        "id": "73d80849",
        "outputId": "6b61017b-9062-4f44-cd83-b2e74d4398b4"
      },
      "outputs": [
        {
          "ename": "NameError",
          "evalue": "name 'c' is not defined",
          "output_type": "error",
          "traceback": [
            "\u001b[1;31m---------------------------------------------------------------------------\u001b[0m",
            "\u001b[1;31mNameError\u001b[0m                                 Traceback (most recent call last)",
            "\u001b[1;32m~\\AppData\\Local\\Temp/ipykernel_4428/1283127722.py\u001b[0m in \u001b[0;36m<module>\u001b[1;34m\u001b[0m\n\u001b[1;32m----> 1\u001b[1;33m \u001b[0mc\u001b[0m \u001b[1;32mnot\u001b[0m \u001b[1;32min\u001b[0m \u001b[0ma\u001b[0m\u001b[1;33m\u001b[0m\u001b[1;33m\u001b[0m\u001b[0m\n\u001b[0m",
            "\u001b[1;31mNameError\u001b[0m: name 'c' is not defined"
          ]
        }
      ],
      "source": [
        "c not in a"
      ]
    },
    {
      "cell_type": "markdown",
      "id": "89185067",
      "metadata": {
        "id": "89185067"
      },
      "source": [
        "# Identity operators"
      ]
    },
    {
      "cell_type": "code",
      "execution_count": null,
      "id": "8bd7e2c3",
      "metadata": {
        "id": "8bd7e2c3",
        "outputId": "42b4355f-da03-4e44-e9db-5e2d970abaeb"
      },
      "outputs": [
        {
          "data": {
            "text/plain": [
              "False"
            ]
          },
          "execution_count": 23,
          "metadata": {},
          "output_type": "execute_result"
        }
      ],
      "source": [
        "5 == 6"
      ]
    },
    {
      "cell_type": "code",
      "execution_count": null,
      "id": "a45e3e2b",
      "metadata": {
        "id": "a45e3e2b"
      },
      "outputs": [],
      "source": [
        "#5 != 6"
      ]
    },
    {
      "cell_type": "code",
      "execution_count": null,
      "id": "6239a99f",
      "metadata": {
        "id": "6239a99f"
      },
      "outputs": [],
      "source": [
        "#x=8\n",
        "#y=8\n",
        "#z=10"
      ]
    },
    {
      "cell_type": "code",
      "execution_count": null,
      "id": "ec5b08e0",
      "metadata": {
        "id": "ec5b08e0"
      },
      "outputs": [],
      "source": [
        "#x is y"
      ]
    },
    {
      "cell_type": "code",
      "execution_count": null,
      "id": "568622f5",
      "metadata": {
        "id": "568622f5"
      },
      "outputs": [],
      "source": [
        "#z is x"
      ]
    },
    {
      "cell_type": "code",
      "execution_count": null,
      "id": "acf4adb3",
      "metadata": {
        "id": "acf4adb3"
      },
      "outputs": [],
      "source": [
        "#a is not x"
      ]
    },
    {
      "cell_type": "code",
      "execution_count": null,
      "id": "cfeaedca",
      "metadata": {
        "id": "cfeaedca"
      },
      "outputs": [],
      "source": [
        "#z is not x"
      ]
    },
    {
      "cell_type": "code",
      "execution_count": null,
      "id": "984e9235",
      "metadata": {
        "id": "984e9235"
      },
      "outputs": [],
      "source": [
        "x1=9\n",
        "y1=8"
      ]
    },
    {
      "cell_type": "code",
      "execution_count": null,
      "id": "d14598a5",
      "metadata": {
        "id": "d14598a5",
        "outputId": "a469aa30-b45e-46a2-9edc-020095939db9"
      },
      "outputs": [
        {
          "data": {
            "text/plain": [
              "'0b1001'"
            ]
          },
          "execution_count": 25,
          "metadata": {},
          "output_type": "execute_result"
        }
      ],
      "source": [
        "bin(x1)"
      ]
    },
    {
      "cell_type": "code",
      "execution_count": null,
      "id": "291abd52",
      "metadata": {
        "id": "291abd52",
        "outputId": "452838b4-ddfa-48bb-a016-b6884f38d233"
      },
      "outputs": [
        {
          "data": {
            "text/plain": [
              "'0b1000'"
            ]
          },
          "execution_count": 26,
          "metadata": {},
          "output_type": "execute_result"
        }
      ],
      "source": [
        "bin(y1)"
      ]
    },
    {
      "cell_type": "code",
      "execution_count": null,
      "id": "368baca9",
      "metadata": {
        "id": "368baca9"
      },
      "outputs": [],
      "source": [
        "#z = x1 & y1"
      ]
    },
    {
      "cell_type": "code",
      "execution_count": null,
      "id": "bee2c698",
      "metadata": {
        "id": "bee2c698"
      },
      "outputs": [],
      "source": [
        "#bin(z)"
      ]
    },
    {
      "cell_type": "code",
      "execution_count": null,
      "id": "a1cb83da",
      "metadata": {
        "id": "a1cb83da"
      },
      "outputs": [],
      "source": [
        "#int(0b100)"
      ]
    },
    {
      "cell_type": "code",
      "execution_count": null,
      "id": "b8d257cc",
      "metadata": {
        "id": "b8d257cc"
      },
      "outputs": [],
      "source": []
    }
  ],
  "metadata": {
    "kernelspec": {
      "display_name": "Python 3 (ipykernel)",
      "language": "python",
      "name": "python3"
    },
    "language_info": {
      "codemirror_mode": {
        "name": "ipython",
        "version": 3
      },
      "file_extension": ".py",
      "mimetype": "text/x-python",
      "name": "python",
      "nbconvert_exporter": "python",
      "pygments_lexer": "ipython3",
      "version": "3.9.7"
    },
    "colab": {
      "provenance": []
    }
  },
  "nbformat": 4,
  "nbformat_minor": 5
}