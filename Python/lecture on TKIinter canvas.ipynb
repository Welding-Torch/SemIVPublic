{
 "cells": [
  {
   "cell_type": "code",
   "execution_count": 1,
   "id": "0258eecd",
   "metadata": {},
   "outputs": [],
   "source": [
    "from tkinter import *\n",
    "r=Tk()\n",
    "r.title('Tkinter Canvas')\n",
    "c=Canvas(r,height=400,width=400,bg='lightgrey')\n",
    "l=c.create_line(20,20,190,190,width=4,fill='red')\n",
    "l=c.create_rectangle(180,180,260,290,width=4,fill='blue')\n",
    "l=c.create_arc(90,90,180,180, start=0, extent=120,width=4,fill='green', activefill='yellow')\n",
    "l=c.create_oval(220,100,360,180,width=4,fill='red', activefill='yellow')\n",
    "l=c.create_polygon(290,300,370,340, 360,280,width=4,fill='red', activefill='yellow')\n",
    "l=c.create_text(200,40,text=\"Welcome\",font=(\"Comic Sans MS\", 20, \"bold\"),fill='red')\n",
    "c.pack()\n",
    "r.mainloop()"
   ]
  },
  {
   "cell_type": "code",
   "execution_count": 2,
   "id": "b6b72263",
   "metadata": {},
   "outputs": [],
   "source": [
    "#Creating canvas\n",
    "from tkinter import *\n",
    "r=Tk()\n",
    "r.title('Tkinter Canvas')\n",
    "c=Canvas(r,height=400,width=400,bg='lightgrey')\n",
    "c.pack()\n",
    "r.mainloop()"
   ]
  },
  {
   "cell_type": "code",
   "execution_count": 3,
   "id": "8382302f",
   "metadata": {},
   "outputs": [],
   "source": [
    "#Changing colour of canvas\n",
    "from tkinter import *\n",
    "r=Tk()\n",
    "r.title('Tkinter Canvas')\n",
    "c=Canvas(r,height=400,width=400,bg='blue')\n",
    "c.pack()\n",
    "r.mainloop()"
   ]
  },
  {
   "cell_type": "code",
   "execution_count": 7,
   "id": "fc9757fd",
   "metadata": {},
   "outputs": [],
   "source": [
    "#Adding text to canvas\n",
    "from tkinter import *\n",
    "r=Tk()\n",
    "r.title('Tkinter Canvas')\n",
    "c=Canvas(r,height=400,width=400,bg='lightgrey')\n",
    "# Co-ordinates of centre of text\n",
    "l=c.create_text(200,20,text=\"Title\",font=(\"Times New Roman\", 20, \"bold\"),fill='red')\n",
    "c.pack()\n",
    "r.mainloop()"
   ]
  },
  {
   "cell_type": "code",
   "execution_count": 8,
   "id": "c7d0df18",
   "metadata": {},
   "outputs": [],
   "source": [
    "#Adding line to canvas\n",
    "from tkinter import *\n",
    "r=Tk()\n",
    "r.title('Tkinter Canvas')\n",
    "c=Canvas(r,height=400,width=400,bg='lightgrey')\n",
    "# Co-ordinates of start and end points\n",
    "l=c.create_line(20,20,190,190,width=4,fill='red')\n",
    "c.pack()\n",
    "r.mainloop()"
   ]
  },
  {
   "cell_type": "code",
   "execution_count": 12,
   "id": "541ae1f0",
   "metadata": {},
   "outputs": [],
   "source": [
    "#Adding line to canvas: colour changing\n",
    "from tkinter import *\n",
    "r=Tk()\n",
    "r.title('Tkinter Canvas')\n",
    "c=Canvas(r,height=400,width=400,bg='lightgrey')\n",
    "l=c.create_line(20,20,190,190,width=4,fill='blue')\n",
    "c.pack()\n",
    "r.mainloop()"
   ]
  },
  {
   "cell_type": "code",
   "execution_count": 13,
   "id": "ac3e5294",
   "metadata": {},
   "outputs": [],
   "source": [
    "#Adding line to canvas: using co-ordinates for line angle\n",
    "from tkinter import *\n",
    "r=Tk()\n",
    "r.title('Tkinter Canvas')\n",
    "c=Canvas(r,height=400,width=400,bg='lightgrey')\n",
    "l=c.create_line(100,100,200,100,width=4,fill='blue')\n",
    "c.pack()\n",
    "r.mainloop()"
   ]
  },
  {
   "cell_type": "code",
   "execution_count": 14,
   "id": "8d3e5e09",
   "metadata": {},
   "outputs": [],
   "source": [
    "#Adding line to canvas: using co-ordinates for line angle\n",
    "from tkinter import *\n",
    "r=Tk()\n",
    "r.title('Tkinter Canvas')\n",
    "c=Canvas(r,height=400,width=400,bg='lightgrey')\n",
    "l=c.create_line(300,300,300,100,width=4,fill='blue')\n",
    "c.pack()\n",
    "r.mainloop()"
   ]
  },
  {
   "cell_type": "code",
   "execution_count": 30,
   "id": "73906b87",
   "metadata": {},
   "outputs": [],
   "source": [
    "#Creating rectangle\n",
    "from tkinter import *\n",
    "r=Tk()\n",
    "r.title('Tkinter Canvas')\n",
    "c=Canvas(r,height=400,width=400,bg='lightgrey')\n",
    "l=c.create_rectangle(180,180,260,290,width=4,fill='blue')\n",
    "c.pack()\n",
    "r.mainloop()"
   ]
  },
  {
   "cell_type": "code",
   "execution_count": 18,
   "id": "62adc9b8",
   "metadata": {},
   "outputs": [],
   "source": [
    "#Creating rectangle\n",
    "from tkinter import *\n",
    "r=Tk()\n",
    "r.title('Tkinter Canvas')\n",
    "c=Canvas(r,height=400,width=400,bg='lightgrey')\n",
    "l=c.create_rectangle(180,180,320,320,width=4,fill='blue')\n",
    "c.pack()\n",
    "r.mainloop()"
   ]
  },
  {
   "cell_type": "code",
   "execution_count": 33,
   "id": "4cd3f4e0",
   "metadata": {},
   "outputs": [],
   "source": [
    "#Creating arc\n",
    "from tkinter import *\n",
    "r=Tk()\n",
    "r.title('Tkinter Canvas')\n",
    "#first two co-ordinates are of top left corner of rectangle in which arc fits,\n",
    "#first two co-ordinates are of bottom right corner of rectangle in which arc fits\n",
    "#start is start angle of arc\n",
    "#extent is angle of act\n",
    "#arc angle is measured in anticlockwise direction\n",
    "c=Canvas(r,height=400,width=400,bg='lightgrey')\n",
    "l=c.create_arc(50,50,180,180, start=0, extent=180,width=4,fill='green', activefill='yellow')\n",
    "c.pack()\n",
    "r.mainloop()"
   ]
  },
  {
   "cell_type": "code",
   "execution_count": 34,
   "id": "3262af62",
   "metadata": {},
   "outputs": [],
   "source": [
    "#Creating arc (changing arc parameters)\n",
    "from tkinter import *\n",
    "r=Tk()\n",
    "r.title('Tkinter Canvas')\n",
    "c=Canvas(r,height=400,width=400,bg='lightgrey')\n",
    "l=c.create_arc(0,50,100,100, start=0, extent=359,width=4,fill='green', activefill='red')\n",
    "c.pack()\n",
    "r.mainloop()"
   ]
  },
  {
   "cell_type": "code",
   "execution_count": 37,
   "id": "d858a246",
   "metadata": {},
   "outputs": [],
   "source": [
    "#Creating arc (changing arc parameters)\n",
    "from tkinter import *\n",
    "r=Tk()\n",
    "r.title('Tkinter Canvas')\n",
    "c=Canvas(r,height=400,width=400,bg='lightgrey')\n",
    "l=c.create_arc(50,0,150,400, start=0, extent=270,width=4,fill='green', activefill='blue')\n",
    "c.pack()\n",
    "r.mainloop()"
   ]
  },
  {
   "cell_type": "code",
   "execution_count": 54,
   "id": "85c1fbb4",
   "metadata": {},
   "outputs": [],
   "source": [
    "#Creating oval\n",
    "from tkinter import *\n",
    "r=Tk()\n",
    "r.title('Tkinter Canvas')\n",
    "c=Canvas(r,height=400,width=400,bg='lightgrey')\n",
    "l=c.create_oval(220,100,360,180,width=4,fill='red', activefill='yellow')\n",
    "c.pack()\n",
    "r.mainloop()"
   ]
  },
  {
   "cell_type": "code",
   "execution_count": 11,
   "id": "7f7c4716",
   "metadata": {},
   "outputs": [],
   "source": [
    "#Creating oval\n",
    "from tkinter import *\n",
    "r=Tk()\n",
    "r.title('Tkinter Canvas')\n",
    "c=Canvas(r,height=400,width=400,bg='lightgrey')\n",
    "#0-extreme left point distance from border, 50-extreme top point distance from border, 360-horizontal axis, 250-vertical axis\n",
    "l=c.create_oval(0,50,360,250,width=4,fill='blue', activefill='green')\n",
    "c.pack()\n",
    "r.mainloop()"
   ]
  },
  {
   "cell_type": "code",
   "execution_count": 12,
   "id": "672773a5",
   "metadata": {},
   "outputs": [],
   "source": [
    "#Creating Polygon (triangle)\n",
    "from tkinter import *\n",
    "r=Tk()\n",
    "r.title('Tkinter Canvas')\n",
    "c=Canvas(r,height=400,width=400,bg='lightgrey')\n",
    "l=c.create_polygon(50,50,150,50, 100,250,width=4,fill='red', activefill='yellow')\n",
    "c.pack()\n",
    "r.mainloop()"
   ]
  },
  {
   "cell_type": "code",
   "execution_count": 14,
   "id": "20efc401",
   "metadata": {},
   "outputs": [],
   "source": [
    "#Creating Polygon (rectangle)\n",
    "from tkinter import *\n",
    "r=Tk()\n",
    "r.title('Tkinter Canvas')\n",
    "c=Canvas(r,height=400,width=400,bg='lightgrey')\n",
    "l=c.create_polygon(50,50,200,50, 200,250,50,250,width=4,fill='red', activefill='yellow')\n",
    "c.pack()\n",
    "r.mainloop()"
   ]
  },
  {
   "cell_type": "code",
   "execution_count": 23,
   "id": "49033ac3",
   "metadata": {},
   "outputs": [],
   "source": [
    "#Creating Polygon (pentagon)\n",
    "from tkinter import *\n",
    "r=Tk()\n",
    "r.title('Tkinter Canvas')\n",
    "c=Canvas(r,height=400,width=400,bg='lightgrey')\n",
    "# Give clockwise co-ordinates\n",
    "l=c.create_polygon(50,50,150,50,150,150,100,200,50,150,width=4,fill='red', activefill='green')\n",
    "c.pack()\n",
    "r.mainloop()"
   ]
  },
  {
   "cell_type": "code",
   "execution_count": 24,
   "id": "fc8549bf",
   "metadata": {},
   "outputs": [],
   "source": [
    "#Creating Polygon (hexagon)\n",
    "from tkinter import *\n",
    "r=Tk()\n",
    "r.title('Tkinter Canvas')\n",
    "c=Canvas(r,height=400,width=400,bg='lightgrey')\n",
    "# Give clockwise co-ordinates\n",
    "l=c.create_polygon(100,50,200,50,250,100,200,150,100,150,50,100,width=4,fill='red', activefill='green')\n",
    "c.pack()\n",
    "r.mainloop()"
   ]
  },
  {
   "cell_type": "code",
   "execution_count": null,
   "id": "36e0da6f",
   "metadata": {},
   "outputs": [],
   "source": []
  },
  {
   "cell_type": "code",
   "execution_count": null,
   "id": "b2565e04",
   "metadata": {},
   "outputs": [],
   "source": []
  },
  {
   "cell_type": "code",
   "execution_count": null,
   "id": "fef31204",
   "metadata": {},
   "outputs": [],
   "source": []
  },
  {
   "cell_type": "code",
   "execution_count": 25,
   "id": "af039a8f",
   "metadata": {},
   "outputs": [],
   "source": [
    "from tkinter import *\n",
    "r=Tk()\n",
    "r.title('Tkinter Canvas')\n",
    "c=Canvas(r,height=400,width=400,bg='lightgrey')\n",
    "l=c.create_text(200,40,text=\"Welcome\",font=(\"Comic Sans MS\", 20, \"bold\"),fill='red')\n",
    "c.pack()\n",
    "r.mainloop()"
   ]
  },
  {
   "cell_type": "code",
   "execution_count": 26,
   "id": "6d22fd73",
   "metadata": {},
   "outputs": [],
   "source": [
    "from tkinter import *\n",
    "r=Tk()\n",
    "r.title('Tkinter Canvas')\n",
    "c=Canvas(r,height=400,width=400,bg='lightgrey')\n",
    "# Co-ordinates of centre of text\n",
    "l=c.create_text(200,200,text=\"Welcome\",font=(\"Times New Roman\", 20, \"bold\"),fill='red')\n",
    "c.pack()\n",
    "r.mainloop()"
   ]
  },
  {
   "cell_type": "code",
   "execution_count": null,
   "id": "7f7af1f8",
   "metadata": {},
   "outputs": [],
   "source": []
  }
 ],
 "metadata": {
  "kernelspec": {
   "display_name": "Python 3",
   "language": "python",
   "name": "python3"
  },
  "language_info": {
   "codemirror_mode": {
    "name": "ipython",
    "version": 3
   },
   "file_extension": ".py",
   "mimetype": "text/x-python",
   "name": "python",
   "nbconvert_exporter": "python",
   "pygments_lexer": "ipython3",
   "version": "3.8.8"
  }
 },
 "nbformat": 4,
 "nbformat_minor": 5
}
