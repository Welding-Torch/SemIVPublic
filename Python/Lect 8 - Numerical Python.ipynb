{
 "cells": [
  {
   "cell_type": "code",
   "execution_count": 1,
   "id": "7bc0e194",
   "metadata": {},
   "outputs": [
    {
     "name": "stdout",
     "output_type": "stream",
     "text": [
      "[ 1  2 38  7  9  8 10]\n"
     ]
    }
   ],
   "source": [
    "import numpy as np\n",
    "a=np.array([1,2,38,7,9,8,10])\n",
    "print(a)"
   ]
  },
  {
   "cell_type": "code",
   "execution_count": 2,
   "id": "3847058a",
   "metadata": {},
   "outputs": [
    {
     "name": "stdout",
     "output_type": "stream",
     "text": [
      "max number in the list is 38\n"
     ]
    }
   ],
   "source": [
    "print('max number in the list is',max(a))"
   ]
  },
  {
   "cell_type": "code",
   "execution_count": 3,
   "id": "7402e315",
   "metadata": {},
   "outputs": [
    {
     "name": "stdout",
     "output_type": "stream",
     "text": [
      "min number in the list is 1\n"
     ]
    }
   ],
   "source": [
    "print('min number in the list is',min(a))"
   ]
  },
  {
   "cell_type": "code",
   "execution_count": 5,
   "id": "c451b186",
   "metadata": {},
   "outputs": [
    {
     "name": "stdout",
     "output_type": "stream",
     "text": [
      "length of array is 7\n"
     ]
    }
   ],
   "source": [
    "print('length of array is',len(a))"
   ]
  },
  {
   "cell_type": "code",
   "execution_count": 6,
   "id": "3957a58e",
   "metadata": {},
   "outputs": [
    {
     "name": "stdout",
     "output_type": "stream",
     "text": [
      "sum of array is 75\n"
     ]
    }
   ],
   "source": [
    "print('sum of array is',sum(a))"
   ]
  },
  {
   "cell_type": "code",
   "execution_count": 7,
   "id": "745596b3",
   "metadata": {},
   "outputs": [
    {
     "name": "stdout",
     "output_type": "stream",
     "text": [
      "numbers after 2 [38  7  9  8 10]\n",
      "last 2 after 2 [ 8 10]\n"
     ]
    }
   ],
   "source": [
    "print('numbers after 2',a[2:])\n",
    "print('last 2 after 2',a[-2:])"
   ]
  },
  {
   "cell_type": "code",
   "execution_count": 2,
   "id": "eaf536d8",
   "metadata": {},
   "outputs": [
    {
     "name": "stdout",
     "output_type": "stream",
     "text": [
      "[[ 1  2 38]\n",
      " [ 7  9  8]\n",
      " [ 4  7  9]]\n",
      "zero matrix \n",
      " [[0. 0. 0. 0.]\n",
      " [0. 0. 0. 0.]\n",
      " [0. 0. 0. 0.]\n",
      " [0. 0. 0. 0.]]\n"
     ]
    }
   ],
   "source": [
    "import numpy as np\n",
    "a=np.array([[1,2,38],[7,9,8],[4,7,9]])\n",
    "b=np.zeros([4,4])\n",
    "print(a)\n",
    "print('zero matrix \\n',b)"
   ]
  },
  {
   "cell_type": "code",
   "execution_count": 4,
   "id": "f4019ec2",
   "metadata": {},
   "outputs": [
    {
     "name": "stdout",
     "output_type": "stream",
     "text": [
      "2 matrix \n",
      " [[2 2 2 2]\n",
      " [2 2 2 2]\n",
      " [2 2 2 2]\n",
      " [2 2 2 2]]\n"
     ]
    }
   ],
   "source": [
    "b=np.full([4,4],2)\n",
    "print('2 matrix \\n',b)"
   ]
  },
  {
   "cell_type": "code",
   "execution_count": 13,
   "id": "1df10562",
   "metadata": {},
   "outputs": [
    {
     "name": "stdout",
     "output_type": "stream",
     "text": [
      "2 matrix \n",
      " [[2 2 2]\n",
      " [2 2 2]\n",
      " [2 2 2]]\n"
     ]
    }
   ],
   "source": [
    "b=np.full([3,3],2)\n",
    "print('2 matrix \\n',b)"
   ]
  },
  {
   "cell_type": "code",
   "execution_count": 12,
   "id": "1d839c33",
   "metadata": {},
   "outputs": [
    {
     "name": "stdout",
     "output_type": "stream",
     "text": [
      "9 matrix \n",
      " [[9 9 9]\n",
      " [9 9 9]\n",
      " [9 9 9]]\n"
     ]
    }
   ],
   "source": [
    "b=np.full([3,3],9)\n",
    "print('9 matrix \\n',b)"
   ]
  },
  {
   "cell_type": "code",
   "execution_count": 16,
   "id": "c77e7c65",
   "metadata": {},
   "outputs": [
    {
     "name": "stdout",
     "output_type": "stream",
     "text": [
      "identity matrix \n",
      " [[1. 0. 0.]\n",
      " [0. 1. 0.]\n",
      " [0. 0. 1.]]\n"
     ]
    }
   ],
   "source": []
  },
  {
   "cell_type": "code",
   "execution_count": 17,
   "id": "d9b0ad80",
   "metadata": {},
   "outputs": [
    {
     "name": "stdout",
     "output_type": "stream",
     "text": [
      "[[1 2 3]\n",
      " [4 5 6]\n",
      " [7 8 9]]\n"
     ]
    }
   ],
   "source": [
    "c=np.array([[1,2,3],[4,5,6],[7,8,9]])\n",
    "print(c)"
   ]
  },
  {
   "cell_type": "code",
   "execution_count": 18,
   "id": "89ed0910",
   "metadata": {},
   "outputs": [
    {
     "name": "stdout",
     "output_type": "stream",
     "text": [
      "[[ 2  4 41]\n",
      " [11 14 14]\n",
      " [11 15 18]]\n"
     ]
    }
   ],
   "source": [
    "print(a+c)"
   ]
  },
  {
   "cell_type": "code",
   "execution_count": 19,
   "id": "043b1e11",
   "metadata": {},
   "outputs": [
    {
     "name": "stdout",
     "output_type": "stream",
     "text": [
      "[[ 2  4 41]\n",
      " [11 14 14]\n",
      " [11 15 18]]\n"
     ]
    }
   ],
   "source": [
    "print(np.add(a,c))"
   ]
  },
  {
   "cell_type": "code",
   "execution_count": 20,
   "id": "85da1c9e",
   "metadata": {},
   "outputs": [
    {
     "name": "stdout",
     "output_type": "stream",
     "text": [
      "[[ 0  0 35]\n",
      " [ 3  4  2]\n",
      " [-3 -1  0]]\n"
     ]
    }
   ],
   "source": [
    "print(a-c)"
   ]
  },
  {
   "cell_type": "code",
   "execution_count": 21,
   "id": "b66743be",
   "metadata": {},
   "outputs": [
    {
     "name": "stdout",
     "output_type": "stream",
     "text": [
      "[[ 0  0 35]\n",
      " [ 3  4  2]\n",
      " [-3 -1  0]]\n"
     ]
    }
   ],
   "source": [
    "print(np.subtract(a,c))"
   ]
  },
  {
   "cell_type": "code",
   "execution_count": 22,
   "id": "0e755d72",
   "metadata": {},
   "outputs": [
    {
     "name": "stdout",
     "output_type": "stream",
     "text": [
      "[[0.         0.69314718 1.09861229]\n",
      " [1.38629436 1.60943791 1.79175947]\n",
      " [1.94591015 2.07944154 2.19722458]]\n"
     ]
    }
   ],
   "source": [
    "print(np.log(c))"
   ]
  },
  {
   "cell_type": "code",
   "execution_count": 23,
   "id": "45065d4f",
   "metadata": {},
   "outputs": [
    {
     "name": "stdout",
     "output_type": "stream",
     "text": [
      "[[0.         1.         1.5849625 ]\n",
      " [2.         2.32192809 2.5849625 ]\n",
      " [2.80735492 3.         3.169925  ]]\n"
     ]
    }
   ],
   "source": [
    "print(np.log2(c))"
   ]
  },
  {
   "cell_type": "code",
   "execution_count": 24,
   "id": "3d32867f",
   "metadata": {},
   "outputs": [
    {
     "name": "stdout",
     "output_type": "stream",
     "text": [
      "[[0.         0.30103    0.47712125]\n",
      " [0.60205999 0.69897    0.77815125]\n",
      " [0.84509804 0.90308999 0.95424251]]\n"
     ]
    }
   ],
   "source": [
    "print(np.log10(c))"
   ]
  },
  {
   "cell_type": "code",
   "execution_count": 26,
   "id": "1347ef51",
   "metadata": {},
   "outputs": [
    {
     "name": "stdout",
     "output_type": "stream",
     "text": [
      "[[-0.37015361  0.02286686  0.72977214]\n",
      " [-1.08352616  0.88885345 -0.08060171]\n",
      " [ 0.0187436  -0.87376155 -0.84023897]]\n"
     ]
    }
   ],
   "source": [
    "e=np.random.randn(3,3)\n",
    "print(e)"
   ]
  },
  {
   "cell_type": "code",
   "execution_count": 28,
   "id": "a86b7404",
   "metadata": {},
   "outputs": [
    {
     "name": "stdout",
     "output_type": "stream",
     "text": [
      "[[[7 8 1]\n",
      "  [3 1 3]\n",
      "  [6 7 5]]\n",
      "\n",
      " [[7 2 2]\n",
      "  [9 6 4]\n",
      "  [9 6 5]]\n",
      "\n",
      " [[3 4 9]\n",
      "  [1 6 1]\n",
      "  [3 5 2]]\n",
      "\n",
      " [[4 9 1]\n",
      "  [5 3 5]\n",
      "  [7 4 9]]]\n"
     ]
    }
   ],
   "source": [
    "f=np.random.randint(1,10,[4,3,3])\n",
    "print(f)"
   ]
  },
  {
   "cell_type": "code",
   "execution_count": 30,
   "id": "56f012a3",
   "metadata": {},
   "outputs": [
    {
     "name": "stdout",
     "output_type": "stream",
     "text": [
      "[[7 2 2]\n",
      " [4 4 4]\n",
      " [3 2 1]]\n"
     ]
    }
   ],
   "source": [
    "g=np.random.randint(1,9,size=(3,3))\n",
    "print(g)"
   ]
  },
  {
   "cell_type": "code",
   "execution_count": 30,
   "id": "3e0da634",
   "metadata": {},
   "outputs": [
    {
     "name": "stdout",
     "output_type": "stream",
     "text": [
      "[ 1  2  3  4  5  6  7  8  9 10 11 12 13]\n"
     ]
    }
   ],
   "source": [
    "h=np.arange(1,14,1)\n",
    "print(h)"
   ]
  },
  {
   "cell_type": "code",
   "execution_count": 34,
   "id": "4f78efef",
   "metadata": {},
   "outputs": [
    {
     "name": "stdout",
     "output_type": "stream",
     "text": [
      "[  1.  12.  23.  34.  45.  56.  67.  78.  89. 100.]\n"
     ]
    }
   ],
   "source": [
    "m=np.linspace(1,100,num=10)\n",
    "print(m)"
   ]
  },
  {
   "cell_type": "code",
   "execution_count": 39,
   "id": "2b34c7ec",
   "metadata": {},
   "outputs": [
    {
     "name": "stdout",
     "output_type": "stream",
     "text": [
      "[[1 2 1 1]\n",
      " [0 8 0 8]\n",
      " [1 7 4 6]\n",
      " [2 3 1 4]]\n"
     ]
    }
   ],
   "source": [
    "i=np.random.randint(9,size=(4,4))\n",
    "print(i)"
   ]
  },
  {
   "cell_type": "code",
   "execution_count": 40,
   "id": "ee5e8689",
   "metadata": {},
   "outputs": [
    {
     "name": "stdout",
     "output_type": "stream",
     "text": [
      "[[2 3 7]\n",
      " [5 0 4]\n",
      " [6 8 4]]\n"
     ]
    }
   ],
   "source": [
    "j=np.random.randint(9,size=(3,3))\n",
    "print(j)"
   ]
  },
  {
   "cell_type": "code",
   "execution_count": 35,
   "id": "d111be8c",
   "metadata": {},
   "outputs": [
    {
     "name": "stdout",
     "output_type": "stream",
     "text": [
      "[[1 2 3]\n",
      " [4 5 6]\n",
      " [7 8 9]]\n",
      "std dev 2.581988897471611\n"
     ]
    }
   ],
   "source": [
    "#sd, mean,median,max,min,avg,variance\n",
    "import numpy as np\n",
    "k=np.array([[1,2,3],[4,5,6],[7,8,9]])\n",
    "print(k)\n",
    "print('std dev',np.std(k))"
   ]
  },
  {
   "cell_type": "code",
   "execution_count": 42,
   "id": "532596a6",
   "metadata": {},
   "outputs": [
    {
     "name": "stdout",
     "output_type": "stream",
     "text": [
      "average 5.0\n"
     ]
    }
   ],
   "source": [
    "print('average',np.average(k))"
   ]
  },
  {
   "cell_type": "code",
   "execution_count": 43,
   "id": "a7fd66a3",
   "metadata": {},
   "outputs": [
    {
     "name": "stdout",
     "output_type": "stream",
     "text": [
      "min 1\n"
     ]
    }
   ],
   "source": [
    "print('min',np.min(k))"
   ]
  },
  {
   "cell_type": "code",
   "execution_count": 45,
   "id": "7b1f85fa",
   "metadata": {},
   "outputs": [
    {
     "name": "stdout",
     "output_type": "stream",
     "text": [
      "maximum 9\n"
     ]
    }
   ],
   "source": [
    "print('maximum',np.max(k))"
   ]
  },
  {
   "cell_type": "code",
   "execution_count": 46,
   "id": "cbf0f86d",
   "metadata": {},
   "outputs": [
    {
     "name": "stdout",
     "output_type": "stream",
     "text": [
      "mean 5.0\n"
     ]
    }
   ],
   "source": [
    "print('mean',np.mean(k))"
   ]
  },
  {
   "cell_type": "code",
   "execution_count": 47,
   "id": "f348a2b6",
   "metadata": {},
   "outputs": [
    {
     "name": "stdout",
     "output_type": "stream",
     "text": [
      "median 5.0\n"
     ]
    }
   ],
   "source": [
    "print('median',np.median(k))"
   ]
  },
  {
   "cell_type": "code",
   "execution_count": 49,
   "id": "8c6f61c5",
   "metadata": {},
   "outputs": [
    {
     "name": "stdout",
     "output_type": "stream",
     "text": [
      "variance 6.666666666666667\n"
     ]
    }
   ],
   "source": [
    "print('variance',np.var(k))"
   ]
  },
  {
   "cell_type": "code",
   "execution_count": 51,
   "id": "b521859d",
   "metadata": {},
   "outputs": [
    {
     "name": "stdout",
     "output_type": "stream",
     "text": [
      "sine of array [[ 0.84147098  0.90929743  0.14112001]\n",
      " [-0.7568025  -0.95892427 -0.2794155 ]\n",
      " [ 0.6569866   0.98935825  0.41211849]]\n"
     ]
    }
   ],
   "source": [
    "#sin,cos and tan of array\n",
    "print('sine of array',np.sin(k))"
   ]
  },
  {
   "cell_type": "code",
   "execution_count": 52,
   "id": "a1b5635d",
   "metadata": {},
   "outputs": [
    {
     "name": "stdout",
     "output_type": "stream",
     "text": [
      "cos of array [[ 0.54030231 -0.41614684 -0.9899925 ]\n",
      " [-0.65364362  0.28366219  0.96017029]\n",
      " [ 0.75390225 -0.14550003 -0.91113026]]\n"
     ]
    }
   ],
   "source": [
    "print('cos of array',np.cos(k))"
   ]
  },
  {
   "cell_type": "code",
   "execution_count": 53,
   "id": "322a34b9",
   "metadata": {},
   "outputs": [
    {
     "name": "stdout",
     "output_type": "stream",
     "text": [
      "tan of array [[ 1.55740772 -2.18503986 -0.14254654]\n",
      " [ 1.15782128 -3.38051501 -0.29100619]\n",
      " [ 0.87144798 -6.79971146 -0.45231566]]\n"
     ]
    }
   ],
   "source": [
    "print('tan of array',np.tan(k))"
   ]
  },
  {
   "cell_type": "code",
   "execution_count": 54,
   "id": "70a248f0",
   "metadata": {},
   "outputs": [
    {
     "name": "stdout",
     "output_type": "stream",
     "text": [
      "size of array 9\n"
     ]
    }
   ],
   "source": [
    "print('size of array',k.size)"
   ]
  },
  {
   "cell_type": "code",
   "execution_count": 55,
   "id": "8b74d369",
   "metadata": {},
   "outputs": [
    {
     "name": "stdout",
     "output_type": "stream",
     "text": [
      "shape of array (3, 3)\n"
     ]
    }
   ],
   "source": [
    "print('shape of array',k.shape)"
   ]
  },
  {
   "cell_type": "code",
   "execution_count": 57,
   "id": "dec4d01f",
   "metadata": {},
   "outputs": [
    {
     "name": "stdout",
     "output_type": "stream",
     "text": [
      "sum of array [12 15 18]\n"
     ]
    }
   ],
   "source": [
    "print('sum of array',sum(k))"
   ]
  },
  {
   "cell_type": "code",
   "execution_count": 58,
   "id": "aba5ca4d",
   "metadata": {},
   "outputs": [
    {
     "name": "stdout",
     "output_type": "stream",
     "text": [
      "numbers after 2 [[7 8 9]]\n"
     ]
    }
   ],
   "source": [
    "print('numbers after 2',k[2:])"
   ]
  },
  {
   "cell_type": "code",
   "execution_count": 59,
   "id": "f4357b76",
   "metadata": {},
   "outputs": [
    {
     "name": "stdout",
     "output_type": "stream",
     "text": [
      "last 2 numbers [[4 5 6]\n",
      " [7 8 9]]\n"
     ]
    }
   ],
   "source": [
    "print('last 2 numbers',k[-2:])"
   ]
  },
  {
   "cell_type": "code",
   "execution_count": 1,
   "id": "f265c03e",
   "metadata": {},
   "outputs": [
    {
     "name": "stdout",
     "output_type": "stream",
     "text": [
      "array('i', [1, 2, 38, 7, 9])\n",
      "array('i', [1, 2, 3, 38, 7, 9])\n",
      "array('i', [1, 2, 3, 38, 7, 9, 6])\n",
      "array('i', [1, 2, 3, 7, 9, 6])\n",
      "counting 1 1\n",
      "max number in the array is 9\n",
      "min number in the array is 1\n",
      "length of arraay is 6\n",
      "sum of arraay is 28\n",
      "numbers after 2 array('i', [3, 7, 9, 6])\n",
      "numbers after 2 array('i', [9, 6])\n"
     ]
    }
   ],
   "source": [
    "# 1dim array\n",
    "import array as arr\n",
    "a=arr.array('i',[1,2,38,7,9])\n",
    "print(a)\n",
    "#insert a numer in array\n",
    "a.insert(2,3)\n",
    "print(a)\n",
    "#append\n",
    "a.append(6)\n",
    "print(a)\n",
    "#remove a number from array\n",
    "a.remove(38)\n",
    "print(a)\n",
    "#count a particular numer from array\n",
    "print('counting 1',a.count(1))\n",
    "#max number from array\n",
    "print('max number in the array is',max(a))\n",
    "#min number from array\n",
    "print('min number in the array is',min(a))\n",
    "#length of array\n",
    "print('length of arraay is',len(a))\n",
    "#sum of all the numbers from array\n",
    "print('sum of arraay is',sum(a))\n",
    "#slicing in froma given position array\n",
    "print('numbers after 2',a[2:])\n",
    "print('numbers after 2',a[-2:])\n"
   ]
  },
  {
   "cell_type": "code",
   "execution_count": 2,
   "id": "faf60927",
   "metadata": {},
   "outputs": [
    {
     "name": "stdout",
     "output_type": "stream",
     "text": [
      "[ 1  2 38  7  9  8 10]\n",
      "max number in the list is 38\n",
      "min number in the list is 1\n",
      "length of arraay is 7\n",
      "sum of arraay is 75\n",
      "[ 1  2 38  7  9  8 10]\n",
      "numbers after 2 [38  7  9  8 10]\n",
      "last 2 numbers  [ 8 10]\n"
     ]
    }
   ],
   "source": [
    "# 2 dim array\n",
    "import numpy as np\n",
    "a=np.array([1,2,38,7,9,8,10])\n",
    "print(a)\n",
    "print('max number in the list is',max(a))\n",
    "print('min number in the list is',min(a))\n",
    "print('length of arraay is',len(a))\n",
    "print('sum of arraay is',sum(a))\n",
    "print(a)\n",
    "print('numbers after 2',a[2:])\n",
    "print('last 2 numbers ',a[-2:])\n"
   ]
  },
  {
   "cell_type": "code",
   "execution_count": 3,
   "id": "9f628840",
   "metadata": {},
   "outputs": [
    {
     "name": "stdout",
     "output_type": "stream",
     "text": [
      " zero matrix \n",
      " [[0. 0. 0.]\n",
      " [0. 0. 0.]\n",
      " [0. 0. 0.]]\n",
      " 1 matrix \n",
      " [[1 1 1]\n",
      " [1 1 1]\n",
      " [1 1 1]]\n",
      " 2 matrix \n",
      " [[2 2 2]\n",
      " [2 2 2]\n",
      " [2 2 2]]\n",
      " 9 matrix \n",
      " [[9 9 9]\n",
      " [9 9 9]\n",
      " [9 9 9]]\n",
      " identity matrix \n",
      " [[1. 0. 0.]\n",
      " [0. 1. 0.]\n",
      " [0. 0. 1.]]\n"
     ]
    }
   ],
   "source": [
    "# 2 dim array\n",
    "import numpy as np\n",
    "a=np.array([[1,2,38],[7,9,8],[4,7,9]])\n",
    "b=np.zeros([3,3])\n",
    "print(' zero matrix \\n',b)\n",
    "b=np.full([3,3],1)\n",
    "print(' 1 matrix \\n',b)\n",
    "b=np.full([3,3],2)\n",
    "print(' 2 matrix \\n',b)\n",
    "b=np.full([3,3],9)\n",
    "print(' 9 matrix \\n',b)\n",
    "b=np.eye(3)\n",
    "print(' identity matrix \\n',b)"
   ]
  },
  {
   "cell_type": "code",
   "execution_count": 4,
   "id": "4a8a01fb",
   "metadata": {},
   "outputs": [
    {
     "name": "stdout",
     "output_type": "stream",
     "text": [
      "[[ 1  2 38]\n",
      " [ 7  9  8]\n",
      " [ 4  7  9]]\n",
      "[[1 2 3]\n",
      " [4 5 6]\n",
      " [7 8 9]]\n",
      "[[ 2  4 41]\n",
      " [11 14 14]\n",
      " [11 15 18]]\n",
      "[[ 2  4 41]\n",
      " [11 14 14]\n",
      " [11 15 18]]\n",
      "[[ 0  0 35]\n",
      " [ 3  4  2]\n",
      " [-3 -1  0]]\n",
      "[[ 0  0 35]\n",
      " [ 3  4  2]\n",
      " [-3 -1  0]]\n"
     ]
    }
   ],
   "source": [
    "# 2 dim array\n",
    "import numpy as np\n",
    "a=np.array([[1,2,38],[7,9,8],[4,7,9]])\n",
    "print(a)\n",
    "c=np.array([[1,2,3],[4,5,6],[7,8,9]])\n",
    "print(c)\n",
    "print(a+c)\n",
    "print(np.add(a,c))\n",
    "print(a-c)\n",
    "print(np.subtract(a,c))"
   ]
  },
  {
   "cell_type": "code",
   "execution_count": 5,
   "id": "98bd2164",
   "metadata": {},
   "outputs": [
    {
     "name": "stdout",
     "output_type": "stream",
     "text": [
      "[[ 1  2 38]\n",
      " [ 7  9  8]\n",
      " [ 4  7  9]]\n",
      "size of array is 9\n",
      "shape of array (3, 3)\n",
      "sum of arraay is [12 18 55]\n",
      "numbers after 2 [[4 7 9]]\n",
      "last 2 numbers  [[7 9 8]\n",
      " [4 7 9]]\n",
      " zero matrix \n",
      " [[0. 0. 0.]\n",
      " [0. 0. 0.]\n",
      " [0. 0. 0.]]\n",
      "[[1. 1. 1.]\n",
      " [1. 1. 1.]\n",
      " [1. 1. 1.]]\n",
      "[[9 9 9]\n",
      " [9 9 9]\n",
      " [9 9 9]]\n",
      "[[1. 0. 0.]\n",
      " [0. 1. 0.]\n",
      " [0. 0. 1.]]\n",
      "[[ 2  4 41]\n",
      " [11 14 14]\n",
      " [11 15 18]]\n",
      "[[ 2  4 41]\n",
      " [11 14 14]\n",
      " [11 15 18]]\n",
      "[[ 0  0 35]\n",
      " [ 3  4  2]\n",
      " [-3 -1  0]]\n",
      "[[ 0  0 35]\n",
      " [ 3  4  2]\n",
      " [-3 -1  0]]\n",
      "[[1 2 3]\n",
      " [4 5 6]\n",
      " [7 8 9]]\n",
      "[[ 0.84147098  0.90929743  0.14112001]\n",
      " [-0.7568025  -0.95892427 -0.2794155 ]\n",
      " [ 0.6569866   0.98935825  0.41211849]]\n",
      "[[ 0.54030231 -0.41614684 -0.9899925 ]\n",
      " [-0.65364362  0.28366219  0.96017029]\n",
      " [ 0.75390225 -0.14550003 -0.91113026]]\n",
      "[[ 1.55740772 -2.18503986 -0.14254654]\n",
      " [ 1.15782128 -3.38051501 -0.29100619]\n",
      " [ 0.87144798 -6.79971146 -0.45231566]]\n",
      "[[0.         0.69314718 1.09861229]\n",
      " [1.38629436 1.60943791 1.79175947]\n",
      " [1.94591015 2.07944154 2.19722458]]\n",
      "[[0.         1.         1.5849625 ]\n",
      " [2.         2.32192809 2.5849625 ]\n",
      " [2.80735492 3.         3.169925  ]]\n",
      "[[0.         0.30103    0.47712125]\n",
      " [0.60205999 0.69897    0.77815125]\n",
      " [0.84509804 0.90308999 0.95424251]]\n",
      "2.581988897471611\n",
      "5.0\n",
      "1\n",
      "9\n",
      "5.0\n",
      "5.0\n",
      "6.666666666666667\n",
      "[ 1.57079633  0.         -1.57079633]\n",
      "[[ 1.5609421  -0.39668915]\n",
      " [-0.8186364  -1.80298404]]\n",
      "[1 2 1]\n",
      "[[3 7 4]\n",
      " [2 3 5]\n",
      " [4 1 1]]\n",
      "[ 1  5  9 13]\n",
      "[0.         0.26315789 0.52631579 0.78947368 1.05263158 1.31578947\n",
      " 1.57894737 1.84210526 2.10526316 2.36842105 2.63157895 2.89473684\n",
      " 3.15789474 3.42105263 3.68421053 3.94736842 4.21052632 4.47368421\n",
      " 4.73684211 5.        ]\n",
      "457.00000000000017\n"
     ]
    }
   ],
   "source": [
    "# 2 dim array\n",
    "import numpy as np\n",
    "a=np.array([[1,2,38],[7,9,8],[4,7,9]])\n",
    "print(a)\n",
    "print('size of array is',a.size)\n",
    "print('shape of array',a.shape)\n",
    "print('sum of arraay is',sum(a))\n",
    "print('numbers after 2',a[2:])\n",
    "print('last 2 numbers ',a[-2:])\n",
    "b=np.zeros([3,3])\n",
    "print(' zero matrix \\n',b)\n",
    "b=np.ones([3,3])\n",
    "print(b)\n",
    "b=np.full([3,3],9)\n",
    "print(b)\n",
    "b=np.eye(3)\n",
    "print(b)\n",
    "c=np.array([[1,2,3],[4,5,6],[7,8,9]])\n",
    "print(a+c)\n",
    "print(np.add(a,c))\n",
    "print(a-c)\n",
    "print(np.subtract(a,c))\n",
    "print(c)\n",
    "print(np.sin(c))\n",
    "print(np.cos(c))\n",
    "print(np.tan(c))\n",
    "print(np.log(c))\n",
    "print(np.log2(c))\n",
    "print(np.log10(c))\n",
    "print(np.std(c))\n",
    "print(np.average(c))\n",
    "print(np.min(c))\n",
    "print(np.max(c))\n",
    "print(np.mean(c))\n",
    "print(np.median(c))\n",
    "print(np.var(c))\n",
    "d=np.array([1,0,-1])\n",
    "print(np.arcsin(d))\n",
    "e=np.random.randn(2,2)\n",
    "print(e)\n",
    "f=np.random.randint(1,[3,3,3])\n",
    "print(f)\n",
    "g=np.random.randint(9,size=(3,3))\n",
    "print(g)\n",
    "h=np.arange(1,14,4)\n",
    "print(h)\n",
    "m=np.linspace(0,5,num=20)\n",
    "print(m)\n",
    "print(np.linalg.det(a))\n",
    "\n"
   ]
  },
  {
   "cell_type": "code",
   "execution_count": 8,
   "id": "36c2801f",
   "metadata": {},
   "outputs": [
    {
     "name": "stdout",
     "output_type": "stream",
     "text": [
      "[[ 1  2 38]\n",
      " [ 7  9  8]\n",
      " [ 4  7  9]]\n",
      "size of array is 9\n",
      "shape of array (3, 3)\n",
      "sum of arraay is [12 18 55]\n",
      "numbers after 2 [[4 7 9]]\n",
      "last 2 numbers  [[7 9 8]\n",
      " [4 7 9]]\n"
     ]
    }
   ],
   "source": [
    "# 2 dim array\n",
    "import numpy as np\n",
    "a=np.array([[1,2,38],[7,9,8],[4,7,9]])\n",
    "print(a)\n",
    "print('size of array is',a.size)\n",
    "print('shape of array',a.shape)\n",
    "print('sum of arraay is',sum(a))\n",
    "print('numbers after 2',a[2:])\n",
    "print('last 2 numbers ',a[-2:])\n"
   ]
  },
  {
   "cell_type": "code",
   "execution_count": null,
   "id": "62d260ae",
   "metadata": {},
   "outputs": [],
   "source": []
  }
 ],
 "metadata": {
  "kernelspec": {
   "display_name": "Python 3",
   "language": "python",
   "name": "python3"
  },
  "language_info": {
   "codemirror_mode": {
    "name": "ipython",
    "version": 3
   },
   "file_extension": ".py",
   "mimetype": "text/x-python",
   "name": "python",
   "nbconvert_exporter": "python",
   "pygments_lexer": "ipython3",
   "version": "3.8.8"
  }
 },
 "nbformat": 4,
 "nbformat_minor": 5
}
