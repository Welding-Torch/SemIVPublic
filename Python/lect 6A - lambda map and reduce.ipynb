{
 "cells": [
  {
   "cell_type": "markdown",
   "id": "a8141974",
   "metadata": {},
   "source": [
    "# Lambda Map & Reduce"
   ]
  },
  {
   "cell_type": "markdown",
   "id": "96fc12a8",
   "metadata": {},
   "source": [
    "# Lambda"
   ]
  },
  {
   "cell_type": "code",
   "execution_count": 5,
   "id": "6e739ee9",
   "metadata": {},
   "outputs": [
    {
     "data": {
      "text/plain": [
       "14"
      ]
     },
     "execution_count": 5,
     "metadata": {},
     "output_type": "execute_result"
    }
   ],
   "source": [
    "add5= lambda x: x+5\n",
    "add5(9)"
   ]
  },
  {
   "cell_type": "code",
   "execution_count": 4,
   "id": "afc57375",
   "metadata": {},
   "outputs": [
    {
     "data": {
      "text/plain": [
       "81"
      ]
     },
     "execution_count": 4,
     "metadata": {},
     "output_type": "execute_result"
    }
   ],
   "source": [
    "sq= lambda x: x**2\n",
    "sq(9)"
   ]
  },
  {
   "cell_type": "code",
   "execution_count": 6,
   "id": "9018fbb0",
   "metadata": {},
   "outputs": [
    {
     "data": {
      "text/plain": [
       "8"
      ]
     },
     "execution_count": 6,
     "metadata": {},
     "output_type": "execute_result"
    }
   ],
   "source": [
    "sub1= lambda x: x-1\n",
    "sub1(9)"
   ]
  },
  {
   "cell_type": "code",
   "execution_count": 7,
   "id": "c1a3347f",
   "metadata": {},
   "outputs": [
    {
     "name": "stdout",
     "output_type": "stream",
     "text": [
      "original list is  [3, 5, 7, 8, 9, 11, 15, 16, 20, 22, 87, 99, 98]\n",
      "even numbers from original list [8, 16, 20, 22, 98]\n",
      "odd numbers from original list [3, 5, 7, 9, 11, 15, 87, 99]\n",
      "prime numbers from original list [3, 5, 7, 8, 9, 11, 15, 16, 20, 22, 87, 99, 98]\n"
     ]
    }
   ],
   "source": [
    "l1=[3,5,7,8,9,11,15,16,20,22,87,99,98]\n",
    "print('original list is ',l1)\n",
    "l2=list(filter(lambda x: (x%2 == 0) , l1))\n",
    "print('even numbers from original list',l2)\n",
    "l3=list(filter(lambda x: (x%2 != 0) , l1))\n",
    "print('odd numbers from original list',l3)\n",
    "l4=list(filter(lambda x: x%x==0 , l1))\n",
    "print('prime numbers from original list',l4)"
   ]
  },
  {
   "cell_type": "markdown",
   "id": "6977fa42",
   "metadata": {},
   "source": [
    "# Map"
   ]
  },
  {
   "cell_type": "code",
   "execution_count": 8,
   "id": "666c10e9",
   "metadata": {},
   "outputs": [
    {
     "name": "stdout",
     "output_type": "stream",
     "text": [
      "original list is  [2, 5, 7, 8, 9, 11, 15, 16, 20, 22, 87, 99, 98]\n",
      "mapped list is  [8, 125, 343, 512, 729, 1331, 3375, 4096, 8000, 10648, 658503, 970299, 941192]\n"
     ]
    }
   ],
   "source": [
    "l1=[2,5,7,8,9,11,15,16,20,22,87,99,98]\n",
    "print('original list is ',l1)\n",
    "y=list(map(lambda x:(x**3), l1))\n",
    "print('mapped list is ',y)"
   ]
  },
  {
   "cell_type": "markdown",
   "id": "ab7722eb",
   "metadata": {},
   "source": [
    "# Reduce"
   ]
  },
  {
   "cell_type": "code",
   "execution_count": null,
   "id": "dec12845",
   "metadata": {},
   "outputs": [],
   "source": [
    "from functools import reduce"
   ]
  },
  {
   "cell_type": "code",
   "execution_count": 12,
   "id": "90907a77",
   "metadata": {},
   "outputs": [
    {
     "name": "stdout",
     "output_type": "stream",
     "text": [
      "120\n"
     ]
    }
   ],
   "source": [
    "from functools import reduce\n",
    "l=[3,5,8]\n",
    "z=reduce((lambda x,y:x*y),l)\n",
    "print(z)"
   ]
  },
  {
   "cell_type": "code",
   "execution_count": 9,
   "id": "83053542",
   "metadata": {},
   "outputs": [
    {
     "name": "stdout",
     "output_type": "stream",
     "text": [
      "25\n"
     ]
    }
   ],
   "source": [
    "from functools import reduce\n",
    "l=[3,5,7,10]\n",
    "z=reduce((lambda x,y:x+y),l)\n",
    "print(z)"
   ]
  },
  {
   "cell_type": "code",
   "execution_count": 10,
   "id": "3ba7bd45",
   "metadata": {},
   "outputs": [
    {
     "name": "stdout",
     "output_type": "stream",
     "text": [
      "23\n"
     ]
    }
   ],
   "source": [
    "from functools import reduce\n",
    "l=[3,5,7,8]\n",
    "z=reduce((lambda x,y:x+y),l)\n",
    "print(z)"
   ]
  },
  {
   "cell_type": "code",
   "execution_count": 11,
   "id": "df82b701",
   "metadata": {},
   "outputs": [
    {
     "name": "stdout",
     "output_type": "stream",
     "text": [
      "-17\n"
     ]
    }
   ],
   "source": [
    "from functools import reduce\n",
    "l=[3,5,7,8]\n",
    "z=reduce((lambda x,y:x-y),l)\n",
    "print(z)"
   ]
  },
  {
   "cell_type": "code",
   "execution_count": 5,
   "id": "2b8adaf4",
   "metadata": {},
   "outputs": [],
   "source": [
    "def max_of_two(x,y):\n",
    "    if x>y:\n",
    "        print(x)\n",
    "    else:\n",
    "        print (y)\n",
    "    return\n",
    "        "
   ]
  },
  {
   "cell_type": "code",
   "execution_count": 6,
   "id": "6dd7ee46",
   "metadata": {},
   "outputs": [
    {
     "name": "stdout",
     "output_type": "stream",
     "text": [
      "8\n"
     ]
    }
   ],
   "source": [
    "max_of_two(8,7)"
   ]
  },
  {
   "cell_type": "code",
   "execution_count": 23,
   "id": "fefc5bfc",
   "metadata": {},
   "outputs": [
    {
     "name": "stdout",
     "output_type": "stream",
     "text": [
      "20\n"
     ]
    }
   ],
   "source": [
    "def add(numbers):\n",
    "    total=0\n",
    "    for x in numbers:\n",
    "        total +=x\n",
    "    return total\n",
    "print(add((8,2,3,0,7)))\n"
   ]
  },
  {
   "cell_type": "code",
   "execution_count": 2,
   "id": "104cd449",
   "metadata": {},
   "outputs": [
    {
     "name": "stdout",
     "output_type": "stream",
     "text": [
      "-336\n"
     ]
    }
   ],
   "source": [
    "def multiply(numbers):\n",
    "    total=1\n",
    "    for x in numbers:\n",
    "        total *=x\n",
    "    return total\n",
    "print(multiply((8,2,3,-1,7)))"
   ]
  },
  {
   "cell_type": "code",
   "execution_count": 1,
   "id": "045c83d2",
   "metadata": {},
   "outputs": [],
   "source": [
    "def string_reverse(str1):\n",
    "    rstr1=\"\"\n",
    "    index = len(str1)\n",
    "    while index >0:\n",
    "        rstr1 +=str1[index-1]\n",
    "        index=index\n",
    "                     \n",
    "        "
   ]
  },
  {
   "cell_type": "code",
   "execution_count": null,
   "id": "4989100d",
   "metadata": {},
   "outputs": [],
   "source": []
  }
 ],
 "metadata": {
  "kernelspec": {
   "display_name": "Python 3",
   "language": "python",
   "name": "python3"
  },
  "language_info": {
   "codemirror_mode": {
    "name": "ipython",
    "version": 3
   },
   "file_extension": ".py",
   "mimetype": "text/x-python",
   "name": "python",
   "nbconvert_exporter": "python",
   "pygments_lexer": "ipython3",
   "version": "3.8.8"
  }
 },
 "nbformat": 4,
 "nbformat_minor": 5
}
