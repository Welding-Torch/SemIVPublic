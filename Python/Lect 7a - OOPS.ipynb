{
 "cells": [
  {
   "cell_type": "code",
   "execution_count": 6,
   "id": "ec7e48c7",
   "metadata": {},
   "outputs": [
    {
     "name": "stdout",
     "output_type": "stream",
     "text": [
      "Sum is  35\n"
     ]
    }
   ],
   "source": [
    "#Constructor\n",
    "class xyz:\n",
    "    def __init__(self,a,b):\n",
    "        self.a=a\n",
    "        self.b=b\n",
    "        self.k=a+b\n",
    "        print(\"Sum is \", self.k)\n",
    "x=xyz(15,20)\n",
    "\n"
   ]
  },
  {
   "cell_type": "code",
   "execution_count": 3,
   "id": "6fb27598",
   "metadata": {},
   "outputs": [
    {
     "name": "stdout",
     "output_type": "stream",
     "text": [
      "Sum is  50\n"
     ]
    }
   ],
   "source": [
    "#Constructor\n",
    "class xyz:\n",
    "    def __init__(self,a,b):\n",
    "        self.a=a\n",
    "        self.b=b\n",
    "        \n",
    "        print(\"Sum is \", self.a+self.b)\n",
    "x=xyz(25,25)\n"
   ]
  },
  {
   "cell_type": "code",
   "execution_count": 2,
   "id": "fd818f38",
   "metadata": {},
   "outputs": [
    {
     "name": "stdout",
     "output_type": "stream",
     "text": [
      "1000000\n",
      "600000\n",
      "2017\n",
      "2016\n",
      "City\n",
      "Bolt\n",
      "{'modelname': 'City', 'yearm': 2017, 'price': 1000000}\n",
      "{'modelname': 'Bolt', 'yearm': 2016, 'price': 600000}\n",
      "1000000\n",
      "1150000\n"
     ]
    }
   ],
   "source": [
    "#Constructor\n",
    "class Car():\n",
    "    def __init__(self,modelname,yearm,price):\n",
    "        self.modelname = modelname\n",
    "        self.yearm = yearm\n",
    "        self.price = price\n",
    "    def price_inc(self) :\n",
    "        self.price=int(self.price*1.15)\n",
    "        \n",
    "honda = Car('City', 2017,1000000)\n",
    "tata =  Car('Bolt', 2016,600000)\n",
    "print (honda.price) \n",
    "print (tata.price) \n",
    "print (honda.yearm) \n",
    "print (tata.yearm)\n",
    "print (honda.modelname) \n",
    "print (tata.modelname)\n",
    "print (honda.__dict__)\n",
    "print (tata.__dict__)\n",
    "    \n",
    "print (honda.price)\n",
    "honda.price_inc()\n",
    "print (honda.price)"
   ]
  },
  {
   "cell_type": "code",
   "execution_count": 3,
   "id": "6b2085aa",
   "metadata": {},
   "outputs": [
    {
     "name": "stdout",
     "output_type": "stream",
     "text": [
      "Enter a=5\n",
      "Enter  b=6\n",
      "Sum is  11\n"
     ]
    }
   ],
   "source": [
    "#Constructor\n",
    "class xyz:\n",
    "    def __init__(self,a,b):\n",
    "        self.a=a\n",
    "        self.b=b\n",
    "        print(\"Sum is \", a+b)\n",
    "x=int(input(\"Enter a=\"))\n",
    "y=int(input(\"Enter  b=\"))\n",
    "ob=xyz(x,y)"
   ]
  },
  {
   "cell_type": "code",
   "execution_count": 14,
   "id": "749d8e0c",
   "metadata": {},
   "outputs": [
    {
     "name": "stdout",
     "output_type": "stream",
     "text": [
      "area of square is  200\n",
      "Volume of cube is  6000\n"
     ]
    }
   ],
   "source": [
    "# Constructors and methods\n",
    "class area:\n",
    "    def __init__(self, l, b, h):\n",
    "        self.l=l\n",
    "        self.b=b\n",
    "        self.h=h\n",
    "    def square(self):\n",
    "        k=self.l*self.b\n",
    "        print (\"area of square is \", k)\n",
    "    def cube(self):     \n",
    "        v= self.l*self.b*self.h\n",
    "        print (\"Volume of cube is \", v)\n",
    "a=area(10,20,30)\n",
    "a.square()\n",
    "a.cube()\n"
   ]
  },
  {
   "cell_type": "code",
   "execution_count": 5,
   "id": "f933c884",
   "metadata": {},
   "outputs": [
    {
     "name": "stdout",
     "output_type": "stream",
     "text": [
      "area of square is  200\n",
      "Volume of cube is  6000\n"
     ]
    }
   ],
   "source": [
    "# Constructors and methods\n",
    "class area:\n",
    "    def __init__(self, l, b, h):\n",
    "        self.l=l\n",
    "        self.b=b\n",
    "        self.h=h\n",
    "    def square(self):\n",
    "        k=self.l*self.b\n",
    "        print (\"area of square is \", k)\n",
    "    def cube(self):     \n",
    "        v= self.l*self.b*self.h\n",
    "        print (\"Volume of cube is \", v)\n",
    "a=area(10,20,30)\n",
    "a.square()\n",
    "a.cube()"
   ]
  },
  {
   "cell_type": "code",
   "execution_count": 1,
   "id": "db9e72c2",
   "metadata": {},
   "outputs": [
    {
     "name": "stdout",
     "output_type": "stream",
     "text": [
      "area of square is  100\n",
      "Volume of cube is  6000\n"
     ]
    }
   ],
   "source": [
    "# Class methods and static methods\n",
    "class area:\n",
    "    def __init__(self,l,b):\n",
    "        self.l=l\n",
    "        self.b=b\n",
    "    \n",
    "    def square(self,l,b):\n",
    "        print (\"area of square is \", l*b)\n",
    "    @staticmethod\n",
    "    def cube(l,b,h,):\n",
    "        print (\"Volume of cube is \", l*b*h)\n",
    "ob=area(5,5)\n",
    "ob.square(10,10)\n",
    "ob.cube(10,20,30)\n"
   ]
  },
  {
   "cell_type": "code",
   "execution_count": 7,
   "id": "3dcddbb8",
   "metadata": {},
   "outputs": [
    {
     "name": "stdout",
     "output_type": "stream",
     "text": [
      " Super class :  Name is  Sachin  Age is  50\n",
      "Sub class:  U r name is  Sachin U r gender is  MALE\n",
      "Sub of sub class:  U r name is  Sachin U r gender is  MALE u r contact is 999\n"
     ]
    }
   ],
   "source": [
    "# Multilevel inheritance\n",
    "class base:\n",
    "    def __init__(self,name,age):\n",
    "        self.name=name\n",
    "        self.age=age\n",
    "    def display(self):\n",
    "        print(\" Super class :  Name is \",self.name,\" Age is \",self.age)\n",
    "class sub(base):\n",
    "    def __init__(self,name,age,gender):\n",
    "        base.__init__(self,name,age)\n",
    "        self.gender=gender\n",
    "    def displaysub(self):\n",
    "        print(\"Sub class:  U r name is \", self.name, \"U r gender is \",self.gender)\n",
    "    \n",
    "\n",
    "class subofsub(sub):\n",
    "    def __init__(self,name,age,gender,contact):\n",
    "        sub.__init__(self,name,age,gender)\n",
    "        self.contact=contact\n",
    "    def displaysubsub(self):\n",
    "        print(\"Sub of sub class:  U r name is \", self.name, \"U r gender is \",self.gender,\"u r contact is\",self.contact)\n",
    "        \n",
    "\n",
    "ob2=subofsub(\"Sachin\",50,\"MALE\",999)\n",
    "ob2.display()\n",
    "ob2.displaysub()\n",
    "ob2.displaysubsub()\n"
   ]
  },
  {
   "cell_type": "code",
   "execution_count": 24,
   "id": "2c2210d0",
   "metadata": {},
   "outputs": [
    {
     "name": "stdout",
     "output_type": "stream",
     "text": [
      "Super: Val of a is  1 Val of b is  2\n",
      "Sub: Val of c is  3\n"
     ]
    }
   ],
   "source": [
    "# Multiple class\n",
    "class super1:\n",
    "    def __init__(self,a,b):\n",
    "        self.a=a\n",
    "        self.b=b\n",
    "    def display(self):\n",
    "        print(\"Super: Val of a is \",self.a, \"Val of b is \",self.b)\n",
    "class sub:\n",
    "    def __init__(self,c):\n",
    "        self.c=c\n",
    "    def display(self):\n",
    "        print(\"Sub: Val of c is \",self.c)\n",
    "ob=super1(1,2)\n",
    "ob.display()\n",
    "ob1=sub(3)\n",
    "ob1.display()\n"
   ]
  },
  {
   "cell_type": "code",
   "execution_count": 25,
   "id": "59757d2e",
   "metadata": {},
   "outputs": [
    {
     "name": "stdout",
     "output_type": "stream",
     "text": [
      "Sum of a,b and c is 60\n",
      "Sum of a and b is 30\n",
      "Sum Not possible..Value of a is 10\n",
      "Sum Not possible..Value of a is None\n"
     ]
    }
   ],
   "source": [
    "# Method overloading\n",
    "class overloadng:\n",
    "    def sum(self, a=None,b=None,c=None):\n",
    "        if a is not None and b is not None and c is not None :\n",
    "            print('Sum of a,b and c is',a+b+c) \n",
    "        elif a is not None and b is not None:\n",
    "            print('Sum of a and b is',a+b) \n",
    "        else:\n",
    "            print('Sum Not possible..Value of a is',a) \n",
    "ob=overloadng()\n",
    "ob.sum(10,20,30)\n",
    "ob.sum(10,20)\n",
    "ob.sum(10)\n",
    "ob.sum()\n"
   ]
  },
  {
   "cell_type": "code",
   "execution_count": null,
   "id": "8321c437",
   "metadata": {},
   "outputs": [],
   "source": []
  }
 ],
 "metadata": {
  "kernelspec": {
   "display_name": "Python 3",
   "language": "python",
   "name": "python3"
  },
  "language_info": {
   "codemirror_mode": {
    "name": "ipython",
    "version": 3
   },
   "file_extension": ".py",
   "mimetype": "text/x-python",
   "name": "python",
   "nbconvert_exporter": "python",
   "pygments_lexer": "ipython3",
   "version": "3.8.8"
  }
 },
 "nbformat": 4,
 "nbformat_minor": 5
}
