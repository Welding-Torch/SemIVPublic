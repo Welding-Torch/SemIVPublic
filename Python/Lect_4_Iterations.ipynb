{
  "cells": [
    {
      "cell_type": "code",
      "execution_count": null,
      "id": "d8aefdb9",
      "metadata": {
        "id": "d8aefdb9",
        "outputId": "debb04b3-f2be-4289-ebf7-22d5cb778a84"
      },
      "outputs": [
        {
          "name": "stdout",
          "output_type": "stream",
          "text": [
            "Enter the value of a : 10\n",
            "Enter the value of b : 12\n",
            "b is maximum\n"
          ]
        }
      ],
      "source": [
        "If-Else\n",
        "a=int(input('Enter the value of a : ')) \n",
        "b=int(input('Enter the value of b : '))\n",
        "if(a>b):\n",
        "    print('a is maximum')\n",
        "else:\n",
        "    print('b is maximum')\n",
        "    "
      ]
    },
    {
      "cell_type": "code",
      "execution_count": null,
      "id": "a19a5437",
      "metadata": {
        "id": "a19a5437",
        "outputId": "4bcffa18-89cd-4953-bd40-c8f7520ded3f"
      },
      "outputs": [
        {
          "name": "stdout",
          "output_type": "stream",
          "text": [
            "Enter the value of a : 8\n",
            "Enter the value of b : 10\n",
            "Enter the value of c : 12\n",
            "c is maximum\n"
          ]
        }
      ],
      "source": [
        "# If- elif - else\n",
        "a=int(input('Enter the value of a : ')) \n",
        "b=int(input('Enter the value of b : '))\n",
        "c=int(input('Enter the value of c : '))\n",
        "if(a>b) & (a>c):\n",
        "    print('a is maximum')\n",
        "elif(b>c):\n",
        "    print('b is maximum')\n",
        "else :\n",
        "    print('c is maximum')\n",
        "\n"
      ]
    },
    {
      "cell_type": "code",
      "execution_count": null,
      "id": "bc976856",
      "metadata": {
        "id": "bc976856",
        "outputId": "f5462a18-58cb-4aa2-9971-a5c5f62bf9dc"
      },
      "outputs": [
        {
          "name": "stdout",
          "output_type": "stream",
          "text": [
            "Enter the marks :65\n",
            "first Class\n"
          ]
        }
      ],
      "source": [
        "#If- elif – elif -else\n",
        "marks=int(input('Enter the marks :'))\n",
        "if(marks<40):\n",
        "     print('Fail')\n",
        "elif(marks<60):\n",
        "    print('second class')\n",
        "elif(marks<75):\n",
        "    print('first Class')\n",
        "else:\n",
        "    print('Distinction')"
      ]
    },
    {
      "cell_type": "code",
      "execution_count": null,
      "id": "43344855",
      "metadata": {
        "id": "43344855",
        "outputId": "673d0ea3-7709-4c59-c4b9-c9d54498ed1c"
      },
      "outputs": [
        {
          "name": "stdout",
          "output_type": "stream",
          "text": [
            "0\n",
            "1\n",
            "2\n",
            "3\n",
            "4\n",
            "5\n",
            "6\n",
            "7\n",
            "8\n",
            "9\n",
            "10\n"
          ]
        }
      ],
      "source": [
        "# While loop\n",
        "i=0 \n",
        "while(i<=10):\n",
        "    print(i)\n",
        "    i=i+1"
      ]
    },
    {
      "cell_type": "code",
      "execution_count": null,
      "id": "54fd2b99",
      "metadata": {
        "id": "54fd2b99",
        "outputId": "c93b2c1d-c8d7-4f0e-e4fb-fa7e7bbb27c0"
      },
      "outputs": [
        {
          "name": "stdout",
          "output_type": "stream",
          "text": [
            "Reverse For loop\n",
            "10\n",
            "9\n",
            "8\n",
            "7\n",
            "6\n",
            "5\n",
            "4\n",
            "3\n",
            "2\n",
            "1\n",
            "0\n"
          ]
        }
      ],
      "source": [
        "# While loop\n",
        "print('Reverse For loop')\n",
        "i=10\n",
        "while(i>=0):\n",
        "    print(i)\n",
        "    i=i-1"
      ]
    },
    {
      "cell_type": "code",
      "execution_count": null,
      "id": "9238ab5d",
      "metadata": {
        "id": "9238ab5d",
        "outputId": "fa2ba617-a249-4f66-d815-51b11762164e"
      },
      "outputs": [
        {
          "name": "stdout",
          "output_type": "stream",
          "text": [
            "even nos between 1 to 100\n",
            "0\n",
            "2\n",
            "4\n",
            "6\n",
            "8\n",
            "10\n",
            "12\n",
            "14\n",
            "16\n",
            "18\n",
            "20\n",
            "22\n",
            "24\n",
            "26\n",
            "28\n",
            "30\n",
            "32\n",
            "34\n",
            "36\n",
            "38\n",
            "40\n",
            "42\n",
            "44\n",
            "46\n",
            "48\n",
            "50\n",
            "52\n",
            "54\n",
            "56\n",
            "58\n",
            "60\n",
            "62\n",
            "64\n",
            "66\n",
            "68\n",
            "70\n",
            "72\n",
            "74\n",
            "76\n",
            "78\n",
            "80\n",
            "82\n",
            "84\n",
            "86\n",
            "88\n",
            "90\n",
            "92\n",
            "94\n",
            "96\n",
            "98\n",
            "100\n"
          ]
        }
      ],
      "source": [
        "# Even numbers\n",
        "print('even nos between 1 to 100')\n",
        "i=0 #initialization\n",
        "while(i<=100):\n",
        "    print(i)\n",
        "    i=i+2"
      ]
    },
    {
      "cell_type": "code",
      "execution_count": null,
      "id": "6eba769c",
      "metadata": {
        "id": "6eba769c",
        "outputId": "a374bc29-33d9-4065-effa-ab54c4603dd4"
      },
      "outputs": [
        {
          "name": "stdout",
          "output_type": "stream",
          "text": [
            "odd nos between 1 to 100\n",
            "1\n",
            "3\n",
            "5\n",
            "7\n",
            "9\n",
            "11\n",
            "13\n",
            "15\n",
            "17\n",
            "19\n",
            "21\n",
            "23\n",
            "25\n",
            "27\n",
            "29\n",
            "31\n",
            "33\n",
            "35\n",
            "37\n",
            "39\n",
            "41\n",
            "43\n",
            "45\n",
            "47\n",
            "49\n",
            "51\n",
            "53\n",
            "55\n",
            "57\n",
            "59\n",
            "61\n",
            "63\n",
            "65\n",
            "67\n",
            "69\n",
            "71\n",
            "73\n",
            "75\n",
            "77\n",
            "79\n",
            "81\n",
            "83\n",
            "85\n",
            "87\n",
            "89\n",
            "91\n",
            "93\n",
            "95\n",
            "97\n",
            "99\n"
          ]
        }
      ],
      "source": [
        "# Odd numbers\n",
        "print('odd nos between 1 to 100')\n",
        "i=1 #initialization\n",
        "while(i<=100):\n",
        "    print(i)\n",
        "    i=i+2"
      ]
    },
    {
      "cell_type": "code",
      "execution_count": null,
      "id": "e3fa85b3",
      "metadata": {
        "id": "e3fa85b3",
        "outputId": "7034dead-b54d-4821-ef76-2c9af2f97e5e"
      },
      "outputs": [
        {
          "name": "stdout",
          "output_type": "stream",
          "text": [
            "1\n",
            "2\n",
            "3\n",
            "4\n",
            "5\n",
            "6\n",
            "7\n",
            "8\n",
            "9\n",
            "10\n",
            "negative for loop\n",
            "10\n",
            "9\n",
            "8\n",
            "7\n",
            "6\n",
            "5\n",
            "4\n",
            "3\n",
            "2\n",
            "1\n"
          ]
        }
      ],
      "source": [
        "#For loop\n",
        "\n",
        "for i in range(1,11,1):\n",
        "    print(i)\n",
        "print('negative for loop')\n",
        "for i in range(10,0,-1):\n",
        "    print(i)"
      ]
    },
    {
      "cell_type": "code",
      "execution_count": null,
      "id": "3c62b619",
      "metadata": {
        "id": "3c62b619",
        "outputId": "58570b60-630f-4d19-9077-edffef534014"
      },
      "outputs": [
        {
          "name": "stdout",
          "output_type": "stream",
          "text": [
            "enter n8\n",
            "8 x 1 = 8\n",
            "8 x 2 = 16\n",
            "8 x 3 = 24\n",
            "8 x 4 = 32\n",
            "8 x 5 = 40\n",
            "8 x 6 = 48\n",
            "8 x 7 = 56\n",
            "8 x 8 = 64\n",
            "8 x 9 = 72\n",
            "8 x 10 = 80\n"
          ]
        }
      ],
      "source": [
        "#create table\n",
        "n=int(input('enter n'))\n",
        "i=1\n",
        "while(i<=10):\n",
        "    print(n,'x',i,'=',n*i)\n",
        "    i=i+1"
      ]
    },
    {
      "cell_type": "code",
      "execution_count": null,
      "id": "3c0680c2",
      "metadata": {
        "id": "3c0680c2",
        "outputId": "178c931a-b2ac-4d29-e69a-62167fd6d381"
      },
      "outputs": [
        {
          "name": "stdout",
          "output_type": "stream",
          "text": [
            "a "
          ]
        }
      ],
      "source": [
        "x = \"abcdef\"\n",
        "i = \"a\"\n",
        "while i in x:\n",
        "    x = x[1:]\n",
        "    print(i, end = \" \")\n",
        "\n"
      ]
    },
    {
      "cell_type": "code",
      "execution_count": null,
      "id": "e939e472",
      "metadata": {
        "id": "e939e472",
        "outputId": "d3da7966-c232-44bb-e245-402b43b1ac3e"
      },
      "outputs": [
        {
          "data": {
            "text/plain": [
              "'def'"
            ]
          },
          "execution_count": 10,
          "metadata": {},
          "output_type": "execute_result"
        }
      ],
      "source": [
        "x = \"abcdef\"\n",
        "y=x[3:]\n",
        "y"
      ]
    },
    {
      "cell_type": "code",
      "execution_count": null,
      "id": "3ec90feb",
      "metadata": {
        "id": "3ec90feb",
        "outputId": "2897dfb9-b64d-4bbb-9417-482213a473c7"
      },
      "outputs": [
        {
          "name": "stdout",
          "output_type": "stream",
          "text": [
            "Enter number: -5\n",
            "Entered no. is negative\n"
          ]
        }
      ],
      "source": [
        "# 5. Python Program to Check Whether a Number is Positive or Negative\n",
        "\n",
        "\n",
        " \n",
        "a=int(input(\"Enter number: \"))\n",
        "if(a>0):\n",
        "    print(\"Entered no. is positive\")\n",
        "else:\n",
        "    print(\"Entered no. is negative\")"
      ]
    },
    {
      "cell_type": "code",
      "execution_count": null,
      "id": "6991167c",
      "metadata": {
        "id": "6991167c",
        "outputId": "983e63c5-149e-41ca-cad6-d478fc49abb0"
      },
      "outputs": [
        {
          "name": "stdout",
          "output_type": "stream",
          "text": [
            "Enter marks of the first subject: 50\n",
            "Enter marks of the second subject: 60\n",
            "Enter marks of the third subject: 40\n",
            "Enter marks of the fourth subject: 30\n",
            "Enter marks of the fifth subject: 70\n",
            "Average is 50.0\n",
            "Grade is F\n"
          ]
        }
      ],
      "source": [
        "# 6. Python Program to Take in the Marks of 5 Subjects calculate avg and Display the Grade\n",
        "\n",
        "n1=int(input(\"Enter marks of the first subject: \"))\n",
        "n2=int(input(\"Enter marks of the second subject: \"))\n",
        "n3=int(input(\"Enter marks of the third subject: \"))\n",
        "n4=int(input(\"Enter marks of the fourth subject: \"))\n",
        "n5=int(input(\"Enter marks of the fifth subject: \"))\n",
        "avg=(n1+n2+n3+n4+n5)/5\n",
        "print(\"Average is\", avg)\n",
        "\n",
        "if(avg>=90):\n",
        "    print(\"Grade is A\")\n",
        "elif(avg>=75 and avg<90):\n",
        "    print(\"Grade is B\")\n",
        "elif(avg>=65 and avg<75):\n",
        "    print(\"Grade is C\")\n",
        "elif(avg>=55 and avg<65):\n",
        "    print(\"Grade is D\")\n",
        "else:\n",
        "    print(\"Grade is F\")"
      ]
    },
    {
      "cell_type": "code",
      "execution_count": null,
      "id": "b8ea6111",
      "metadata": {
        "id": "b8ea6111",
        "outputId": "205976dc-2cd5-4f5d-ac76-8d55e9494087"
      },
      "outputs": [
        {
          "name": "stdout",
          "output_type": "stream",
          "text": [
            "Enter four numbers\n",
            "Enter number : 8\n",
            "Enter number : 9\n",
            "Enter number : 7\n",
            "Enter number : 7\n",
            "Average of 4 inputted numbers is : 7.75\n"
          ]
        }
      ],
      "source": [
        "# 1. Python Program to accept four numbers and print the Average of Numbers\n",
        "print('Enter four numbers')\n",
        "total_sum = 0\n",
        "for n in range(0,4):\n",
        "    numbers = int(input('Enter number : '))\n",
        "    total_sum += numbers\n",
        "avg = total_sum/4\n",
        "print('Average of 4 inputted numbers is :', avg)\n"
      ]
    },
    {
      "cell_type": "code",
      "execution_count": null,
      "id": "37bfc6b1",
      "metadata": {
        "id": "37bfc6b1",
        "outputId": "06a7ba6e-40a2-4f2b-8acc-2dcf97cef19f"
      },
      "outputs": [
        {
          "name": "stdout",
          "output_type": "stream",
          "text": [
            "Enter number: 456\n",
            "The reverse of the inputted number is: 654\n"
          ]
        }
      ],
      "source": [
        "#4 Python Program to Reverse a Given Number (Computer n%10 and store it in temporary variable)\n",
        "\n",
        "a=int(input(\"Enter number: \"))\n",
        "reverse=0\n",
        "while(a>0):\n",
        "    d=a%10\n",
        "    reverse=reverse*10+d\n",
        "    a=a//10\n",
        "print(\"The reverse of the inputted number is:\",reverse)"
      ]
    },
    {
      "cell_type": "code",
      "execution_count": null,
      "id": "fe25f4d9",
      "metadata": {
        "id": "fe25f4d9",
        "outputId": "38242eab-b61c-4ea9-a642-0c643f4b896f"
      },
      "outputs": [
        {
          "name": "stdout",
          "output_type": "stream",
          "text": [
            "Enter first number of range:45\n",
            "Enter last number of range:68\n",
            "Enter the number to be divided by:58\n",
            "58\n"
          ]
        }
      ],
      "source": [
        "#7. Python Program to Print all Numbers in a Range Divisible by a Given Number\n",
        "\n",
        "first=int(input(\"Enter first number of range:\"))\n",
        "last=int(input(\"Enter last number of range:\"))\n",
        "n=int(input(\"Enter the number to be divided by:\"))\n",
        "for a in range(first,last+1):\n",
        "    if(a%n==0):\n",
        "        print(a)"
      ]
    },
    {
      "cell_type": "code",
      "execution_count": null,
      "id": "1fd885db",
      "metadata": {
        "id": "1fd885db"
      },
      "outputs": [],
      "source": []
    }
  ],
  "metadata": {
    "kernelspec": {
      "display_name": "Python 3 (ipykernel)",
      "language": "python",
      "name": "python3"
    },
    "language_info": {
      "codemirror_mode": {
        "name": "ipython",
        "version": 3
      },
      "file_extension": ".py",
      "mimetype": "text/x-python",
      "name": "python",
      "nbconvert_exporter": "python",
      "pygments_lexer": "ipython3",
      "version": "3.9.7"
    },
    "colab": {
      "provenance": []
    }
  },
  "nbformat": 4,
  "nbformat_minor": 5
}