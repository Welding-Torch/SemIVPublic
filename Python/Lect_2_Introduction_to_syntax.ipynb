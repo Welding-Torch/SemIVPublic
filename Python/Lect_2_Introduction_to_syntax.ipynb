{
  "cells": [
    {
      "cell_type": "code",
      "execution_count": null,
      "id": "8777a09a",
      "metadata": {
        "id": "8777a09a",
        "outputId": "7546b0ae-1c44-4862-c4c4-7f414f3f62d7"
      },
      "outputs": [
        {
          "name": "stdout",
          "output_type": "stream",
          "text": [
            "Enter the value of a : 8\n",
            "Enter the value of b : 7\n",
            "Addition of  8 and 7 is  15\n",
            "Subtraction of  8 and 7 is  1\n",
            "Multipication of  8 and 7 is  56\n",
            "Division of  8 and 7 is  1.1428571428571428\n",
            "Square of  8 is 64\n"
          ]
        }
      ],
      "source": [
        "#1.Python Program for taking inputs and performing simple arithmatic operations\n",
        "a=int(input('Enter the value of a : ')) \n",
        "b=int(input('Enter the value of b : ')) \n",
        "c=a+b\n",
        "print('Addition of ', a ,'and', b ,'is ',c)\n",
        "print('Subtraction of ', a ,'and', b ,'is ',(a-b))\n",
        "print('Multipication of ', a ,'and', b ,'is ',(a*b))\n",
        "print('Division of ', a ,'and', b ,'is ',(a/b))\n",
        "print('Square of ', a ,'is',(a**2))"
      ]
    },
    {
      "cell_type": "code",
      "execution_count": null,
      "id": "924c0e30",
      "metadata": {
        "id": "924c0e30"
      },
      "outputs": [],
      "source": [
        "#2.Python Program to Exchange the Values of Two Numbers  witout Using a Temporary Variable\n",
        "\n",
        "#m=int(input(\"Enter value of first number: \"))\n",
        "#n=int(input(\"Enter value of second number: \"))\n",
        "#print(\"Before exchanging\")\n",
        "#print(\"First number m:\",m , \"Second number n:\", n)\n",
        "#m=m+n\n",
        "#n=m-n\n",
        "#m=m-n\n",
        "#print(\"After exchanging\")\n",
        "#print( \" m is:\",m,\" And n is:\",n)"
      ]
    },
    {
      "cell_type": "code",
      "execution_count": null,
      "id": "25e940e4",
      "metadata": {
        "id": "25e940e4",
        "outputId": "1d5dcf02-1ea6-4c37-c1b5-052853d5348b"
      },
      "outputs": [
        {
          "name": "stdout",
          "output_type": "stream",
          "text": [
            "Enter the first number: 5\n",
            "Enter the second number: 4\n",
            "Quotient is: 1\n",
            "Remainder is: 1\n"
          ]
        }
      ],
      "source": [
        "#3. Python Program to Read Two Numbers and Print Their Quotient and Remainder\n",
        "\n",
        " \n",
        "m=int(input(\"Enter the first number: \"))\n",
        "n=int(input(\"Enter the second number: \"))\n",
        "q=m//n\n",
        "rem=m%n\n",
        "print(\"Quotient is:\",q)\n",
        "print(\"Remainder is:\",rem)"
      ]
    },
    {
      "cell_type": "code",
      "execution_count": null,
      "id": "c0ab725e",
      "metadata": {
        "id": "c0ab725e"
      },
      "outputs": [],
      "source": [
        "#a=int(input('Enter the value of a : ')) \n",
        "#b=int(input('Enter the value of b : ')) \n",
        "#c=a+b\n",
        "#print('Addition of ', a ,'and', b ,'is ',c)\n",
        "#print('Substraction of {0} and {1} is {2}'.format(a,b,a-b))\n",
        "#print('Multiplication of {0} and {1} is {2}'.format(a,b,a*b))\n",
        "#print('Division of {0} and {1} is {2}'.format(a,b,a/b))\n",
        "#print('Addition of {0} and {1} is {2}'.format(a,b,a+b))\n",
        "#print('Square of {0} is {1}'.format(a,a**2))"
      ]
    },
    {
      "cell_type": "code",
      "execution_count": null,
      "id": "f85865a3",
      "metadata": {
        "id": "f85865a3",
        "outputId": "50d12150-6f61-4a2e-d090-50df0dd94747"
      },
      "outputs": [
        {
          "name": "stdout",
          "output_type": "stream",
          "text": [
            "1\n",
            "2\n",
            "3\n",
            "4\n"
          ]
        }
      ],
      "source": [
        "for i in range (1,5):\n",
        "    print(i)"
      ]
    },
    {
      "cell_type": "code",
      "execution_count": null,
      "id": "3034db84",
      "metadata": {
        "id": "3034db84",
        "outputId": "376bc961-9a02-46ae-926d-17f207d5ea57"
      },
      "outputs": [
        {
          "name": "stdout",
          "output_type": "stream",
          "text": [
            "1\n",
            "2\n",
            "3\n",
            "4\n",
            "\n",
            "\n",
            "1  2  3  4  "
          ]
        }
      ],
      "source": [
        "for i in range (1,5):\n",
        "       print(i)\n",
        "print('\\n')\n",
        "for i in range (1,5):\n",
        "    print(i,end='  ')\n"
      ]
    },
    {
      "cell_type": "code",
      "execution_count": null,
      "id": "c0a5a7c6",
      "metadata": {
        "id": "c0a5a7c6",
        "outputId": "60f2c733-a73a-4d5e-b057-94d4c71609fa"
      },
      "outputs": [
        {
          "name": "stdout",
          "output_type": "stream",
          "text": [
            "1\r",
            "2\r",
            "3\r",
            "4\r",
            "5\r",
            "6\r"
          ]
        }
      ],
      "source": [
        "for i in range (1,7):\n",
        "    print(i,end='\\r')"
      ]
    },
    {
      "cell_type": "markdown",
      "id": "42fa858c",
      "metadata": {
        "id": "42fa858c"
      },
      "source": [
        "# Use of % in printing"
      ]
    },
    {
      "cell_type": "code",
      "execution_count": null,
      "id": "f57720d7",
      "metadata": {
        "id": "f57720d7",
        "outputId": "3677be53-e59f-4776-de7e-5cf057a64efd"
      },
      "outputs": [
        {
          "name": "stdout",
          "output_type": "stream",
          "text": [
            "00000002\n",
            "00002\n",
            "0002\n",
            "002\n",
            "02\n"
          ]
        }
      ],
      "source": [
        "x=2\n",
        "print(\"%08d\"%x)\n",
        "print(\"%05d\"%x)\n",
        "print(\"%04d\"%x)\n",
        "print(\"%03d\"%x)\n",
        "print(\"%02d\"%x)"
      ]
    },
    {
      "cell_type": "code",
      "execution_count": null,
      "id": "6eadb8bf",
      "metadata": {
        "id": "6eadb8bf",
        "outputId": "d71816e2-900d-46b2-ea4a-21c4c43ac344"
      },
      "outputs": [
        {
          "name": "stdout",
          "output_type": "stream",
          "text": [
            "-000002\n",
            "-00002\n",
            "-0002\n",
            "-002\n",
            "-02\n"
          ]
        }
      ],
      "source": [
        "x=2\n",
        "print(\"-%06d\"%x)\n",
        "print(\"-%05d\"%x)\n",
        "print(\"-%04d\"%x)\n",
        "print(\"-%03d\"%x)\n",
        "print(\"-%02d\"%x)"
      ]
    },
    {
      "cell_type": "code",
      "execution_count": null,
      "id": "3c9fe42d",
      "metadata": {
        "id": "3c9fe42d",
        "outputId": "c408075d-e327-400c-f879-a3e8e3395627"
      },
      "outputs": [
        {
          "name": "stdout",
          "output_type": "stream",
          "text": [
            "2     \n",
            "2    \n",
            "2   \n",
            "2  \n",
            "2 \n"
          ]
        }
      ],
      "source": [
        "x=2\n",
        "print(\"%-06d\"%x)\n",
        "print(\"%-05d\"%x)\n",
        "print(\"%-04d\"%x)\n",
        "print(\"%-03d\"%x)\n",
        "print(\"%-02d\"%x)"
      ]
    },
    {
      "cell_type": "code",
      "execution_count": null,
      "id": "4eef4bde",
      "metadata": {
        "id": "4eef4bde",
        "outputId": "ba1ce015-45b2-400f-801a-0383fd61553c"
      },
      "outputs": [
        {
          "name": "stdout",
          "output_type": "stream",
          "text": [
            "56.00\n",
            "56.000\n",
            "56.0000\n",
            "56.000000\n"
          ]
        }
      ],
      "source": [
        "x=56\n",
        "print(\"%.2f\"%x)\n",
        "print(\"%.3f\"%x)\n",
        "print(\"%.4f\"%x)\n",
        "print(\"%f\"%x)"
      ]
    },
    {
      "cell_type": "code",
      "execution_count": null,
      "id": "118f982e",
      "metadata": {
        "id": "118f982e",
        "outputId": "ffd43c88-439a-4cf0-d340-78862a088a4b"
      },
      "outputs": [
        {
          "name": "stdout",
          "output_type": "stream",
          "text": [
            "Mumbai,Pune,Delhi\n"
          ]
        }
      ],
      "source": [
        "var1 = \"Mumbai\"\n",
        "var2 = \"Pune\"\n",
        "var3 = 'Delhi'\n",
        "print(\"%s,%s,%s\"%(var1, var2,var3))\n"
      ]
    },
    {
      "cell_type": "code",
      "execution_count": null,
      "id": "2e2a656f",
      "metadata": {
        "id": "2e2a656f",
        "outputId": "ac83c4ca-13a4-4498-df6a-b81ad57c382a"
      },
      "outputs": [
        {
          "name": "stdout",
          "output_type": "stream",
          "text": [
            "giacomo 4.35555555555555 4 4.355556 4.35556,4.36\n"
          ]
        }
      ],
      "source": [
        "name ='giacomo'\n",
        "number = 4.35555555555555\n",
        "print('%s %s %d %f %g,%0.2f' % (name, number, number, number, number,number))"
      ]
    },
    {
      "cell_type": "code",
      "execution_count": null,
      "id": "5120f210",
      "metadata": {
        "id": "5120f210",
        "outputId": "237bdec4-aa3a-49e7-b9e4-4d999e2d9c40"
      },
      "outputs": [
        {
          "name": "stdout",
          "output_type": "stream",
          "text": [
            "10 10.678946 10.6789,10.679\n"
          ]
        }
      ],
      "source": [
        "no = 10.67894567\n",
        "print('%d %f %g,%0.3f' % (no, no,no,no))"
      ]
    },
    {
      "cell_type": "code",
      "execution_count": null,
      "id": "d105ff17",
      "metadata": {
        "id": "d105ff17"
      },
      "outputs": [],
      "source": []
    }
  ],
  "metadata": {
    "kernelspec": {
      "display_name": "Python 3 (ipykernel)",
      "language": "python",
      "name": "python3"
    },
    "language_info": {
      "codemirror_mode": {
        "name": "ipython",
        "version": 3
      },
      "file_extension": ".py",
      "mimetype": "text/x-python",
      "name": "python",
      "nbconvert_exporter": "python",
      "pygments_lexer": "ipython3",
      "version": "3.9.7"
    },
    "colab": {
      "provenance": []
    }
  },
  "nbformat": 4,
  "nbformat_minor": 5
}