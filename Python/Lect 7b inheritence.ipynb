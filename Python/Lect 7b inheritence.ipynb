{
 "cells": [
  {
   "cell_type": "code",
   "execution_count": 12,
   "id": "847f57b7",
   "metadata": {},
   "outputs": [
    {
     "name": "stdout",
     "output_type": "stream",
     "text": [
      "Feature 1 is working\n",
      "Feature 2 is working\n"
     ]
    }
   ],
   "source": [
    "#inheritece\n",
    "class A:\n",
    "    def feature1(self):\n",
    "        print (\"Feature 1 is working\")\n",
    "    def feature2(self):\n",
    "        print (\"Feature 2 is working\") \n",
    "class B(A):\n",
    "    def feature3(self):\n",
    "        print (\"Feature 3 is working\")\n",
    "    def feature4(self):\n",
    "        print (\"Feature 4 is working\")\n",
    "class C(B):\n",
    "    def feature5(self):\n",
    "        print (\"Feature 5 is working\")\n",
    "    \n",
    "a1=A()\n",
    "b1=B()\n",
    "c1=C()\n",
    "a1.feature1()\n",
    "a1.feature2()\n"
   ]
  },
  {
   "cell_type": "code",
   "execution_count": 14,
   "id": "7220bb31",
   "metadata": {},
   "outputs": [
    {
     "name": "stdout",
     "output_type": "stream",
     "text": [
      "Feature 1 is working\n",
      "Feature 2 is working\n",
      "Feature 3 is working\n",
      "Feature 4 is working\n"
     ]
    }
   ],
   "source": [
    "#inheritece\n",
    "class A:\n",
    "    def feature1(self):\n",
    "        print (\"Feature 1 is working\")\n",
    "    def feature2(self):\n",
    "        print (\"Feature 2 is working\") \n",
    "class B(A):\n",
    "    def feature3(self):\n",
    "        print (\"Feature 3 is working\")\n",
    "    def feature4(self):\n",
    "        print (\"Feature 4 is working\")\n",
    "class C(B):\n",
    "    def feature5(self):\n",
    "        print (\"Feature 5 is working\")\n",
    "    \n",
    "a1=A()\n",
    "b1=B()\n",
    "c1=C()\n",
    "b1.feature1()\n",
    "b1.feature2()\n",
    "b1.feature3()\n",
    "b1.feature4()\n"
   ]
  },
  {
   "cell_type": "code",
   "execution_count": 15,
   "id": "f9b72bb6",
   "metadata": {},
   "outputs": [
    {
     "name": "stdout",
     "output_type": "stream",
     "text": [
      "Feature 1 is working\n",
      "Feature 2 is working\n",
      "Feature 3 is working\n",
      "Feature 4 is working\n",
      "Feature 5 is working\n"
     ]
    }
   ],
   "source": [
    "#inheritece\n",
    "class A:\n",
    "    def feature1(self):\n",
    "        print (\"Feature 1 is working\")\n",
    "    def feature2(self):\n",
    "        print (\"Feature 2 is working\") \n",
    "class B(A):\n",
    "    def feature3(self):\n",
    "        print (\"Feature 3 is working\")\n",
    "    def feature4(self):\n",
    "        print (\"Feature 4 is working\")\n",
    "class C(B):\n",
    "    def feature5(self):\n",
    "        print (\"Feature 5 is working\")\n",
    "    \n",
    "a1=A()\n",
    "b1=B()\n",
    "c1=C()\n",
    "c1.feature1()\n",
    "c1.feature2()\n",
    "c1.feature3()\n",
    "c1.feature4()\n",
    "c1.feature5()"
   ]
  },
  {
   "cell_type": "code",
   "execution_count": 16,
   "id": "3f5fc56c",
   "metadata": {},
   "outputs": [
    {
     "name": "stdout",
     "output_type": "stream",
     "text": [
      "Feature 1 is working\n",
      "Feature 2 is working\n",
      "Feature 3 is working\n",
      "Feature 4 is working\n",
      "Feature 5 is working\n"
     ]
    }
   ],
   "source": [
    "#multiple inheritece\n",
    "class A:\n",
    "    def feature1(self):\n",
    "        print (\"Feature 1 is working\")\n",
    "    def feature2(self):\n",
    "        print (\"Feature 2 is working\") \n",
    "class B():\n",
    "    def feature3(self):\n",
    "        print (\"Feature 3 is working\")\n",
    "    def feature4(self):\n",
    "        print (\"Feature 4 is working\")\n",
    "class C(A,B):\n",
    "    def feature5(self):\n",
    "        print (\"Feature 5 is working\")\n",
    "    \n",
    "a1=A()\n",
    "b1=B()\n",
    "c1=C()\n",
    "c1.feature1()\n",
    "c1.feature2()\n",
    "c1.feature3()\n",
    "c1.feature4()\n",
    "c1.feature5()"
   ]
  },
  {
   "cell_type": "code",
   "execution_count": 19,
   "id": "86a99d6f",
   "metadata": {},
   "outputs": [
    {
     "name": "stdout",
     "output_type": "stream",
     "text": [
      "Feature 3 is working\n",
      "Feature 4 is working\n"
     ]
    }
   ],
   "source": [
    "#multiple inheritece\n",
    "class A:\n",
    "    def feature1(self):\n",
    "        print (\"Feature 1 is working\")\n",
    "    def feature2(self):\n",
    "        print (\"Feature 2 is working\") \n",
    "class B():\n",
    "    def feature3(self):\n",
    "        print (\"Feature 3 is working\")\n",
    "    def feature4(self):\n",
    "        print (\"Feature 4 is working\")\n",
    "class C(A,B):\n",
    "    def feature5(self):\n",
    "        print (\"Feature 5 is working\")\n",
    "    \n",
    "a1=A()\n",
    "b1=B()\n",
    "c1=C()\n",
    "\n",
    "b1.feature3()\n",
    "b1.feature4()\n"
   ]
  },
  {
   "cell_type": "code",
   "execution_count": null,
   "id": "94544b7e",
   "metadata": {},
   "outputs": [],
   "source": []
  }
 ],
 "metadata": {
  "kernelspec": {
   "display_name": "Python 3",
   "language": "python",
   "name": "python3"
  },
  "language_info": {
   "codemirror_mode": {
    "name": "ipython",
    "version": 3
   },
   "file_extension": ".py",
   "mimetype": "text/x-python",
   "name": "python",
   "nbconvert_exporter": "python",
   "pygments_lexer": "ipython3",
   "version": "3.8.8"
  }
 },
 "nbformat": 4,
 "nbformat_minor": 5
}
